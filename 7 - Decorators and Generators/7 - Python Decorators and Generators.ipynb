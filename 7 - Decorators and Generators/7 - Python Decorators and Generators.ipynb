{
 "cells": [
  {
   "cell_type": "markdown",
   "id": "0c039b16",
   "metadata": {},
   "source": [
    "# Decorators\n",
    "- Supose you have a simple function that you want to add more functionality to.\n",
    "- Decorators allow this without editing the original function.\n",
    "\n",
    "## Returning Functions\n",
    "- Before creating a decorator, lets explore the concept of returning functions from a function.\n",
    "- Functions can be defined within other functions and then returned as the output from the top level function.\n",
    "- Functions defined in functions cannot be executed outside the top level function."
   ]
  },
  {
   "cell_type": "code",
   "execution_count": 11,
   "id": "e2878076",
   "metadata": {},
   "outputs": [],
   "source": [
    "def top_level():\n",
    "    print('Top Level function executed')\n",
    "    \n",
    "    #Defining a function in a function\n",
    "    def middle_function():\n",
    "        return 'I am the middle function'\n",
    "        \n",
    "    return middle_function"
   ]
  },
  {
   "cell_type": "code",
   "execution_count": 12,
   "id": "072d9b7e",
   "metadata": {},
   "outputs": [
    {
     "name": "stdout",
     "output_type": "stream",
     "text": [
      "Top Level function executed\n"
     ]
    },
    {
     "data": {
      "text/plain": [
       "<function __main__.top_level.<locals>.middle_function()>"
      ]
     },
     "execution_count": 12,
     "metadata": {},
     "output_type": "execute_result"
    }
   ],
   "source": [
    "top_level()"
   ]
  },
  {
   "cell_type": "code",
   "execution_count": 13,
   "id": "7eec2e32",
   "metadata": {},
   "outputs": [
    {
     "ename": "NameError",
     "evalue": "name 'middle_function' is not defined",
     "output_type": "error",
     "traceback": [
      "\u001b[1;31m---------------------------------------------------------------------------\u001b[0m",
      "\u001b[1;31mNameError\u001b[0m                                 Traceback (most recent call last)",
      "Input \u001b[1;32mIn [13]\u001b[0m, in \u001b[0;36m<cell line: 1>\u001b[1;34m()\u001b[0m\n\u001b[1;32m----> 1\u001b[0m \u001b[43mmiddle_function\u001b[49m()\n",
      "\u001b[1;31mNameError\u001b[0m: name 'middle_function' is not defined"
     ]
    }
   ],
   "source": [
    "#Cannot excute middle_function\n",
    "middle_function()"
   ]
  },
  {
   "cell_type": "code",
   "execution_count": 9,
   "id": "79fac127",
   "metadata": {},
   "outputs": [
    {
     "data": {
      "text/plain": [
       "'I am the middle function'"
      ]
     },
     "execution_count": 9,
     "metadata": {},
     "output_type": "execute_result"
    }
   ],
   "source": [
    "#Assigning middle_fucntion to an entirely new variable\n",
    "new_func = top_level()\n",
    "new_func() #This can be executed as middle_function"
   ]
  },
  {
   "cell_type": "markdown",
   "id": "81da9ca9",
   "metadata": {},
   "source": [
    "## Passing Fuctions as Arguments\n",
    "- Functions can be passed to other functions as arguments.\n",
    "- This allows the passed function to be run within the receiving function."
   ]
  },
  {
   "cell_type": "code",
   "execution_count": 17,
   "id": "a35ce51d",
   "metadata": {},
   "outputs": [
    {
     "name": "stdout",
     "output_type": "stream",
     "text": [
      "Other Func\n",
      "I am being passed in\n",
      "I am the argument function\n"
     ]
    }
   ],
   "source": [
    "def argument():\n",
    "    print('I am being passed in')\n",
    "    return 'I am the argument function'\n",
    "    \n",
    "def func(the_argument_func): #Notice no brackets as we are not running the function, just passing it.\n",
    "    print('Other Func')\n",
    "    print(the_argument_func())\n",
    "    \n",
    "func(argument)"
   ]
  },
  {
   "cell_type": "markdown",
   "id": "747f8bc1",
   "metadata": {},
   "source": [
    "## Explaining Decorators\n",
    "- Using the tools above we can create a decorator"
   ]
  },
  {
   "cell_type": "code",
   "execution_count": 18,
   "id": "6dabf538",
   "metadata": {},
   "outputs": [],
   "source": [
    "def decorator(orignial_func):\n",
    "    \n",
    "    def wrap_func():\n",
    "        \n",
    "        print('Code before original function')\n",
    "        \n",
    "        orignial_func()\n",
    "        \n",
    "        print('Code after original function')\n",
    "    \n",
    "    return wrap_func"
   ]
  },
  {
   "cell_type": "code",
   "execution_count": 19,
   "id": "a4bd6766",
   "metadata": {},
   "outputs": [],
   "source": [
    "def func_2b_decorated():\n",
    "    print('I am being decorated')"
   ]
  },
  {
   "cell_type": "code",
   "execution_count": 21,
   "id": "b3dd0d48",
   "metadata": {},
   "outputs": [
    {
     "name": "stdout",
     "output_type": "stream",
     "text": [
      "Code before original function\n",
      "I am being decorated\n",
      "Code after original function\n"
     ]
    }
   ],
   "source": [
    "decorated_func = decorator(func_2b_decorated)\n",
    "decorated_func()"
   ]
  },
  {
   "cell_type": "markdown",
   "id": "94a3dd4b",
   "metadata": {},
   "source": [
    "## Decorators\n",
    "- The entire process above can be simplified by using the @ symbol.\n",
    "- This makes it easy to turn the extra functionality off if needed."
   ]
  },
  {
   "cell_type": "code",
   "execution_count": 22,
   "id": "dec1431c",
   "metadata": {},
   "outputs": [
    {
     "name": "stdout",
     "output_type": "stream",
     "text": [
      "Code before original function\n",
      "I am being decorated\n",
      "Code after original function\n"
     ]
    }
   ],
   "source": [
    "@decorator\n",
    "def func_2b_decorated():\n",
    "    print('I am being decorated')\n",
    "    \n",
    "func_2b_decorated()"
   ]
  },
  {
   "cell_type": "markdown",
   "id": "487f00c0",
   "metadata": {},
   "source": [
    "# Generators\n",
    "- A generator is a function that returns a value and then resumes. \n",
    "- This is useful as it allows efficient memory management for generation of objects such as lists.\n",
    "- It allows values to be generated over time instead of holding the entire list in memory.\n",
    "- Generators use the yield keyword to return values"
   ]
  },
  {
   "cell_type": "code",
   "execution_count": 5,
   "id": "3414c3f3",
   "metadata": {},
   "outputs": [],
   "source": [
    "def cube_generator(n):\n",
    "    for x in range(n):\n",
    "        yield x**3"
   ]
  },
  {
   "cell_type": "code",
   "execution_count": 6,
   "id": "3897a65f",
   "metadata": {},
   "outputs": [
    {
     "name": "stdout",
     "output_type": "stream",
     "text": [
      "0\n",
      "1\n",
      "8\n",
      "27\n",
      "64\n",
      "125\n",
      "216\n",
      "343\n",
      "512\n",
      "729\n"
     ]
    }
   ],
   "source": [
    "for num in cube_generator(10):\n",
    "    print(num)"
   ]
  },
  {
   "cell_type": "code",
   "execution_count": 7,
   "id": "4e5d4d2e",
   "metadata": {},
   "outputs": [
    {
     "data": {
      "text/plain": [
       "<generator object cube_generator at 0x000001F8057D5CF0>"
      ]
     },
     "execution_count": 7,
     "metadata": {},
     "output_type": "execute_result"
    }
   ],
   "source": [
    "#notice how you can't call the function on its own. You need to iterate through it.\n",
    "cube_generator(10)"
   ]
  },
  {
   "cell_type": "markdown",
   "id": "0548bcd4",
   "metadata": {},
   "source": [
    "## Next keyword\n",
    "- The next keyword is used to iterate through generators\n",
    "- This is used in the background of generators and is unlikely to be used in elsewhere."
   ]
  },
  {
   "cell_type": "code",
   "execution_count": 16,
   "id": "8a261b36",
   "metadata": {},
   "outputs": [],
   "source": [
    "g = cube_generator(3)"
   ]
  },
  {
   "cell_type": "code",
   "execution_count": 17,
   "id": "192d0b0f",
   "metadata": {},
   "outputs": [
    {
     "data": {
      "text/plain": [
       "0"
      ]
     },
     "execution_count": 17,
     "metadata": {},
     "output_type": "execute_result"
    }
   ],
   "source": [
    "next(g)"
   ]
  },
  {
   "cell_type": "code",
   "execution_count": 18,
   "id": "b69486e9",
   "metadata": {},
   "outputs": [
    {
     "data": {
      "text/plain": [
       "1"
      ]
     },
     "execution_count": 18,
     "metadata": {},
     "output_type": "execute_result"
    }
   ],
   "source": [
    "next(g)"
   ]
  },
  {
   "cell_type": "code",
   "execution_count": 19,
   "id": "5cbe3fd6",
   "metadata": {},
   "outputs": [
    {
     "data": {
      "text/plain": [
       "8"
      ]
     },
     "execution_count": 19,
     "metadata": {},
     "output_type": "execute_result"
    }
   ],
   "source": [
    "next(g)"
   ]
  },
  {
   "cell_type": "code",
   "execution_count": 20,
   "id": "a610bacb",
   "metadata": {},
   "outputs": [
    {
     "ename": "StopIteration",
     "evalue": "",
     "output_type": "error",
     "traceback": [
      "\u001b[1;31m---------------------------------------------------------------------------\u001b[0m",
      "\u001b[1;31mStopIteration\u001b[0m                             Traceback (most recent call last)",
      "Input \u001b[1;32mIn [20]\u001b[0m, in \u001b[0;36m<cell line: 1>\u001b[1;34m()\u001b[0m\n\u001b[1;32m----> 1\u001b[0m \u001b[38;5;28;43mnext\u001b[39;49m\u001b[43m(\u001b[49m\u001b[43mg\u001b[49m\u001b[43m)\u001b[49m\n",
      "\u001b[1;31mStopIteration\u001b[0m: "
     ]
    }
   ],
   "source": [
    "#since we have only input 3 as n, you cannot iterate past 3.\n",
    "next(g)"
   ]
  },
  {
   "cell_type": "markdown",
   "id": "f474c2a5",
   "metadata": {},
   "source": [
    "## iter() Function\n",
    "- Strings cannot be interated over using the next keyword"
   ]
  },
  {
   "cell_type": "code",
   "execution_count": 1,
   "id": "1bd49f75",
   "metadata": {},
   "outputs": [
    {
     "ename": "TypeError",
     "evalue": "'str' object is not an iterator",
     "output_type": "error",
     "traceback": [
      "\u001b[1;31m---------------------------------------------------------------------------\u001b[0m",
      "\u001b[1;31mTypeError\u001b[0m                                 Traceback (most recent call last)",
      "Input \u001b[1;32mIn [1]\u001b[0m, in \u001b[0;36m<cell line: 2>\u001b[1;34m()\u001b[0m\n\u001b[0;32m      1\u001b[0m s \u001b[38;5;241m=\u001b[39m \u001b[38;5;124m'\u001b[39m\u001b[38;5;124mNext\u001b[39m\u001b[38;5;124m'\u001b[39m\n\u001b[1;32m----> 2\u001b[0m \u001b[38;5;28;43mnext\u001b[39;49m\u001b[43m(\u001b[49m\u001b[43ms\u001b[49m\u001b[43m)\u001b[49m\n",
      "\u001b[1;31mTypeError\u001b[0m: 'str' object is not an iterator"
     ]
    }
   ],
   "source": [
    "s = 'Next'\n",
    "next(s)"
   ]
  },
  {
   "cell_type": "markdown",
   "id": "182b6311",
   "metadata": {},
   "source": [
    "- To turn objects into iterators, the iter() function can be used."
   ]
  },
  {
   "cell_type": "code",
   "execution_count": 2,
   "id": "727a0dd7",
   "metadata": {},
   "outputs": [],
   "source": [
    "stringiter = iter(s)"
   ]
  },
  {
   "cell_type": "code",
   "execution_count": 3,
   "id": "2fafc997",
   "metadata": {},
   "outputs": [
    {
     "data": {
      "text/plain": [
       "'N'"
      ]
     },
     "execution_count": 3,
     "metadata": {},
     "output_type": "execute_result"
    }
   ],
   "source": [
    "next(stringiter)"
   ]
  },
  {
   "cell_type": "code",
   "execution_count": 4,
   "id": "9d9cd961",
   "metadata": {},
   "outputs": [
    {
     "data": {
      "text/plain": [
       "'e'"
      ]
     },
     "execution_count": 4,
     "metadata": {},
     "output_type": "execute_result"
    }
   ],
   "source": [
    "next(stringiter)"
   ]
  },
  {
   "cell_type": "code",
   "execution_count": 5,
   "id": "0bbe4c9c",
   "metadata": {},
   "outputs": [
    {
     "data": {
      "text/plain": [
       "'x'"
      ]
     },
     "execution_count": 5,
     "metadata": {},
     "output_type": "execute_result"
    }
   ],
   "source": [
    "next(stringiter)"
   ]
  },
  {
   "cell_type": "code",
   "execution_count": 6,
   "id": "7de49a37",
   "metadata": {},
   "outputs": [
    {
     "data": {
      "text/plain": [
       "'t'"
      ]
     },
     "execution_count": 6,
     "metadata": {},
     "output_type": "execute_result"
    }
   ],
   "source": [
    "next(stringiter)"
   ]
  }
 ],
 "metadata": {
  "kernelspec": {
   "display_name": "Python 3",
   "language": "python",
   "name": "python3"
  },
  "language_info": {
   "codemirror_mode": {
    "name": "ipython",
    "version": 3
   },
   "file_extension": ".py",
   "mimetype": "text/x-python",
   "name": "python",
   "nbconvert_exporter": "python",
   "pygments_lexer": "ipython3",
   "version": "3.9.12"
  }
 },
 "nbformat": 4,
 "nbformat_minor": 5
}
