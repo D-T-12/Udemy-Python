{
 "cells": [
  {
   "cell_type": "markdown",
   "id": "e3773369",
   "metadata": {},
   "source": [
    "# Modules and Packages\n",
    "- Python has more than just the built in libraries\n",
    "- Useres can create libraries for anything and everything \n",
    "- ie. working with excel files, making more advanced games etc...\n",
    "- These can be downloaded using pip. A module that installs modules. \n",
    "- The format for downloading packages in the command line is:\n",
    "- pip install {package name}\n",
    "- Or through anaconda to a specific environment:\n",
    "- conda install {package name}"
   ]
  },
  {
   "cell_type": "markdown",
   "id": "10712df5",
   "metadata": {},
   "source": [
    "## Modules vs Packages\n",
    "- Modules are a .py script that are called in another .py script\n",
    "- Packages are a collection of modules and can have sub packages within them\n",
    "- Essentially Packages and Modules are an even big way of organising your code and using other peoples code. \n",
    "- In each subpackage (folder) an _ _ init _ _ .py file must exist for python to understand it as a package. This file can be blank.  \n",
    "\n",
    "## Examples\n",
    "- All examples are contained within the Modules and Packages folder\n",
    "- Below is what is contained within the main programme. "
   ]
  },
  {
   "cell_type": "code",
   "execution_count": 1,
   "id": "c3be28be",
   "metadata": {},
   "outputs": [
    {
     "name": "stdout",
     "output_type": "stream",
     "text": [
      "I am in the Programme\n",
      "I am in some_main_script\n",
      "I am a func inside the subscript\n",
      "I am a func inside the subscript\n"
     ]
    }
   ],
   "source": [
    "#Importing the function from the Module\n",
    "from Modules_and_Packages_Example.MyModule import my_func\n",
    "\n",
    "#Import some_main_script\n",
    "from Modules_and_Packages_Example.MyMainPackage import some_main_script\n",
    "\n",
    "#Import mysubscript from main package and sub package\n",
    "from Modules_and_Packages_Example.MyMainPackage.SubPackage import Subscript\n",
    "\n",
    "#Importing just the sub report\n",
    "from Modules_and_Packages_Example.MyMainPackage.SubPackage.Subscript import sub_report\n",
    "\n",
    "#Running the function from the Moduel\n",
    "my_func()\n",
    "\n",
    "#Running the function in some_main_script\n",
    "some_main_script.report_main()\n",
    "\n",
    "#Running the function from the subscript\n",
    "Subscript.sub_report()\n",
    "\n",
    "#Calling the sub report \n",
    "sub_report()"
   ]
  },
  {
   "cell_type": "markdown",
   "id": "d29cd5d5",
   "metadata": {},
   "source": [
    "## __init__ == \"__Main__\"\n",
    "- Sometimes there may be a line of code at the bottom of a py file that is: if __ init __ == \"__ Main __ \":\n",
    "- This checks to see if the file is being run directly or if it has been imported. \n",
    "- When a py file is run, Python has a built in variable __ name __ that it assigns a value to. \n",
    "- If the file is being run directly, the variable will be assigned \"__ Main __ \" as the name. "
   ]
  }
 ],
 "metadata": {
  "kernelspec": {
   "display_name": "Python 3 (ipykernel)",
   "language": "python",
   "name": "python3"
  },
  "language_info": {
   "codemirror_mode": {
    "name": "ipython",
    "version": 3
   },
   "file_extension": ".py",
   "mimetype": "text/x-python",
   "name": "python",
   "nbconvert_exporter": "python",
   "pygments_lexer": "ipython3",
   "version": "3.9.12"
  }
 },
 "nbformat": 4,
 "nbformat_minor": 5
}
