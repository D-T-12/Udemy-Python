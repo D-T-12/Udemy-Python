{
 "cells": [
  {
   "cell_type": "markdown",
   "id": "62ee7af9",
   "metadata": {},
   "source": [
    "# Functions\n",
    "- Functions are used to create repeatable blocks of code.\n",
    "- Functions are defined using the 'def' keyword. \n",
    "- Generally function names use snake casing (using underscores rather than spaces). \n",
    "- This makes the name highly readable.\n",
    "- The name is followed by brackets that allow variables to be passed to the function.\n",
    "- Generally a docstring follows that explains what the function does.\n",
    "- Then the function code follows. \n",
    "- Finally, the 'return' keyword allows any output to be assigned to a variable. "
   ]
  },
  {
   "cell_type": "code",
   "execution_count": 3,
   "id": "96afffae",
   "metadata": {},
   "outputs": [],
   "source": [
    "#Defining a function\n",
    "def name_of_function(variable1):\n",
    "    \n",
    "    #Docstring\n",
    "    '''\n",
    "    Docstring explaining function.\n",
    "    '''\n",
    "    \n",
    "    #Function Code\n",
    "    variable1 = f'The passed variable is {variable1}'\n",
    "    \n",
    "    #Return statment\n",
    "    return variable1"
   ]
  },
  {
   "cell_type": "code",
   "execution_count": 4,
   "id": "713af684",
   "metadata": {},
   "outputs": [
    {
     "data": {
      "text/plain": [
       "'The passed variable is aString'"
      ]
     },
     "execution_count": 4,
     "metadata": {},
     "output_type": "execute_result"
    }
   ],
   "source": [
    "name_of_function('aString')"
   ]
  },
  {
   "cell_type": "markdown",
   "id": "1f3bd46e",
   "metadata": {},
   "source": [
    "- You can return directly without first assigning to a variable.\n",
    "- This makes functions a lot more slick."
   ]
  },
  {
   "cell_type": "code",
   "execution_count": 5,
   "id": "63922e33",
   "metadata": {},
   "outputs": [],
   "source": [
    "def check_even(num):\n",
    "    return num%2 == 0"
   ]
  },
  {
   "cell_type": "code",
   "execution_count": 6,
   "id": "098972f1",
   "metadata": {},
   "outputs": [
    {
     "data": {
      "text/plain": [
       "True"
      ]
     },
     "execution_count": 6,
     "metadata": {},
     "output_type": "execute_result"
    }
   ],
   "source": [
    "check_even(20)"
   ]
  },
  {
   "cell_type": "code",
   "execution_count": 7,
   "id": "2c37eb9d",
   "metadata": {},
   "outputs": [
    {
     "data": {
      "text/plain": [
       "False"
      ]
     },
     "execution_count": 7,
     "metadata": {},
     "output_type": "execute_result"
    }
   ],
   "source": [
    "check_even(21)"
   ]
  },
  {
   "cell_type": "markdown",
   "id": "96e07ea3",
   "metadata": {},
   "source": [
    "- The return statement exits the function. This can cause problems and bugs. "
   ]
  },
  {
   "cell_type": "code",
   "execution_count": 8,
   "id": "83acbe48",
   "metadata": {},
   "outputs": [],
   "source": [
    "def check_even_list(list1):\n",
    "    for num in list1:\n",
    "        if num%2==0:\n",
    "            return True\n",
    "        else:\n",
    "            return False #THIS IS WRONG as the function will exit on the first odd number"
   ]
  },
  {
   "cell_type": "code",
   "execution_count": 9,
   "id": "fea6e9a1",
   "metadata": {},
   "outputs": [],
   "source": [
    "def check_even_list(list1):\n",
    "    for num in list1:\n",
    "        if num%2==0:\n",
    "            return True\n",
    "        else:\n",
    "            pass #CORRECT as this will continue searching the list\n",
    "        return False "
   ]
  },
  {
   "cell_type": "markdown",
   "id": "4630389e",
   "metadata": {},
   "source": [
    "## Tuple Unpacking in Functions\n",
    "- You can return tuples from functions\n",
    "- You can then assign the tuple to one variable or multiple individual variables of the tuple elements."
   ]
  },
  {
   "cell_type": "code",
   "execution_count": 2,
   "id": "e23495bf",
   "metadata": {},
   "outputs": [],
   "source": [
    "hoursWorked = [('Adam', 100), ('Ben', 200), ('Charlie', 300)]\n",
    "\n",
    "def greatest_hours(data):\n",
    "    '''\n",
    "    A function to see who has worked the most hours\n",
    "    '''\n",
    "    \n",
    "    employeeName = ''\n",
    "    mostH = 0\n",
    "    \n",
    "    for name, hours in data:\n",
    "        if hours > mostH:\n",
    "            mostH = hours\n",
    "            employeeName = name\n",
    "        else:\n",
    "            pass\n",
    "        \n",
    "    return (employeeName, mostH)        "
   ]
  },
  {
   "cell_type": "code",
   "execution_count": 5,
   "id": "451f647a",
   "metadata": {},
   "outputs": [
    {
     "name": "stdout",
     "output_type": "stream",
     "text": [
      "('Charlie', 300)\n"
     ]
    }
   ],
   "source": [
    "#Tuple Output\n",
    "output = greatest_hours(hoursWorked)\n",
    "print(output)"
   ]
  },
  {
   "cell_type": "code",
   "execution_count": 8,
   "id": "a5d5d46b",
   "metadata": {},
   "outputs": [
    {
     "name": "stdout",
     "output_type": "stream",
     "text": [
      "Charlie 300\n"
     ]
    }
   ],
   "source": [
    "#Tuple unpacking output\n",
    "nameOut, hoursOut = greatest_hours(hoursWorked)\n",
    "print(nameOut, hoursOut)"
   ]
  },
  {
   "cell_type": "markdown",
   "id": "c17c8434",
   "metadata": {},
   "source": [
    "## Function Interactions\n",
    "- The real power in functions comes from functions being able to interact. \n",
    "- This allows code to be constructed in a modular style. "
   ]
  },
  {
   "cell_type": "code",
   "execution_count": 17,
   "id": "615764b2",
   "metadata": {},
   "outputs": [
    {
     "name": "stdout",
     "output_type": "stream",
     "text": [
      "Guess position 1, 2 or 3  2\n",
      "Unlucky Q was at position 3\n",
      "['J', 'J', 'Q']\n"
     ]
    }
   ],
   "source": [
    "from random import shuffle\n",
    "#Chase the Queen\n",
    "cards = ['J','J','Q']\n",
    "\n",
    "def list_shuffle(cardsIn):\n",
    "    shuffle(cardsIn)\n",
    "    return cardsIn\n",
    "\n",
    "def user_input():\n",
    "    return int(input('Guess position 1, 2 or 3  ')) - 1\n",
    "    \n",
    "def check_guess(inp, cards):\n",
    "    if cards[inp] == 'Q':\n",
    "        print('Correct Guess!')\n",
    "        return\n",
    "    else:\n",
    "        qLoc = (cards.index('Q')) + 1\n",
    "        print(f'Unlucky Q was at position {qLoc}')\n",
    "        print(cards)\n",
    "        return\n",
    "\n",
    "shuffledList = list_shuffle(cards)\n",
    "guess = user_input()\n",
    "check_guess(guess, shuffledList)"
   ]
  },
  {
   "cell_type": "markdown",
   "id": "07e5bfa9",
   "metadata": {},
   "source": [
    "## args and kwargs\n",
    "- An asterix in a function variable allows any number of variables to be passed in as a tuple.\n",
    "- Convention has it that the varible be called args. \n",
    "- Two asterix in a function variable allows any number of key words to be passed in as a dictionary. \n",
    "- Convention has it that the variable be called kwargs. \n",
    "- You can use both in the same function, but you must follow the order."
   ]
  },
  {
   "cell_type": "code",
   "execution_count": 19,
   "id": "0b05b256",
   "metadata": {},
   "outputs": [
    {
     "name": "stdout",
     "output_type": "stream",
     "text": [
      "(12, 13, 'lemon')\n"
     ]
    }
   ],
   "source": [
    "def myfunc(*args):\n",
    "    print(args)\n",
    "\n",
    "myfunc(12,13,'lemon') #Any number of arguments can be passed in"
   ]
  },
  {
   "cell_type": "code",
   "execution_count": 21,
   "id": "582079a3",
   "metadata": {},
   "outputs": [
    {
     "name": "stdout",
     "output_type": "stream",
     "text": [
      "{'hello': 'hello', 'lemon': 'yellow', 'apple': 1}\n"
     ]
    }
   ],
   "source": [
    "def myfunc(**kwargs):\n",
    "    print(kwargs)\n",
    "    \n",
    "myfunc(hello='hello', lemon='yellow', apple=1) #Any number of key words can be passed in"
   ]
  },
  {
   "cell_type": "code",
   "execution_count": 22,
   "id": "d365954f",
   "metadata": {},
   "outputs": [
    {
     "name": "stdout",
     "output_type": "stream",
     "text": [
      "(10, 11, 12)\n",
      "{'one': '1', 'two': '2', 'three': '3'}\n"
     ]
    }
   ],
   "source": [
    "def myfunc(*args, **kwargs):\n",
    "    print(args)\n",
    "    print(kwargs)\n",
    "\n",
    "myfunc(10,11,12,one='1', two='2', three='3') #args must come first and you must not add any at the end. "
   ]
  },
  {
   "cell_type": "markdown",
   "id": "1f7b77d0",
   "metadata": {},
   "source": [
    "### Lambda, Map and Filter Functions\n",
    "#### Map\n",
    "- The map function takes a function and a list and applies the function to the elements in the list.\n",
    "- You have to convert the output to a list to see the result"
   ]
  },
  {
   "cell_type": "code",
   "execution_count": 2,
   "id": "9bfffb8f",
   "metadata": {},
   "outputs": [
    {
     "data": {
      "text/plain": [
       "<map at 0x1fc0f760370>"
      ]
     },
     "execution_count": 2,
     "metadata": {},
     "output_type": "execute_result"
    }
   ],
   "source": [
    "nums = [1,2,3,4]\n",
    "\n",
    "def square(num):\n",
    "    return num**2\n",
    "\n",
    "x = map(square, nums)\n",
    "x"
   ]
  },
  {
   "cell_type": "code",
   "execution_count": 3,
   "id": "131b65e6",
   "metadata": {},
   "outputs": [
    {
     "data": {
      "text/plain": [
       "[1, 4, 9, 16]"
      ]
     },
     "execution_count": 3,
     "metadata": {},
     "output_type": "execute_result"
    }
   ],
   "source": [
    "list(x)"
   ]
  },
  {
   "cell_type": "markdown",
   "id": "e94e21ac",
   "metadata": {},
   "source": [
    "#### Filter \n",
    "- The filter function performs a very similar function to map except it only applies bool functions and outputs true results. \n",
    "- Similarly you have to also convert the output to a list to see the results."
   ]
  },
  {
   "cell_type": "code",
   "execution_count": 6,
   "id": "680882d7",
   "metadata": {},
   "outputs": [
    {
     "data": {
      "text/plain": [
       "[2, 4]"
      ]
     },
     "execution_count": 6,
     "metadata": {},
     "output_type": "execute_result"
    }
   ],
   "source": [
    "def check_even(num):\n",
    "    return num%2 ==0\n",
    "\n",
    "list(filter(check_even,nums))"
   ]
  },
  {
   "cell_type": "markdown",
   "id": "eb6de036",
   "metadata": {},
   "source": [
    "#### Lambda\n",
    "- The lambda key word acts as a throw away function. \n",
    "- It is a way of performing a function without having to define and call the function first. \n",
    "- This is useful for functions such as map and filiter."
   ]
  },
  {
   "cell_type": "code",
   "execution_count": 2,
   "id": "4bf92477",
   "metadata": {},
   "outputs": [
    {
     "data": {
      "text/plain": [
       "[1, 4, 9, 16, 25]"
      ]
     },
     "execution_count": 2,
     "metadata": {},
     "output_type": "execute_result"
    }
   ],
   "source": [
    "nums = [1,2,3,4,5]\n",
    "list(map(lambda num: num**2, nums))"
   ]
  },
  {
   "cell_type": "markdown",
   "id": "b2eb0d80",
   "metadata": {},
   "source": [
    "### Nested Statments and Scope\n",
    "- When defining variables, python has an order of where it checks for the variable.\n",
    "- The LEGB format:\n",
    "- L: Local - Names\n",
    "- E: Enclosing function locals - variables in enclosing functions (def lambda) working inward out. \n",
    "- G: Global - variables assigned at the top level of a module file or defined using the GLOBAL keyword. \n",
    "- B: Built-In (python) - variables asigned in the built in names module. "
   ]
  },
  {
   "cell_type": "code",
   "execution_count": 7,
   "id": "91254b75",
   "metadata": {},
   "outputs": [
    {
     "name": "stdout",
     "output_type": "stream",
     "text": [
      "20\n"
     ]
    }
   ],
   "source": [
    "x = 50\n",
    "\n",
    "def func():\n",
    "    x = 20\n",
    "    print(x)\n",
    "\n",
    "func()"
   ]
  },
  {
   "cell_type": "code",
   "execution_count": 8,
   "id": "a46c292a",
   "metadata": {},
   "outputs": [
    {
     "name": "stdout",
     "output_type": "stream",
     "text": [
      "50\n"
     ]
    }
   ],
   "source": [
    "print(x)"
   ]
  },
  {
   "cell_type": "markdown",
   "id": "f6e1895b",
   "metadata": {},
   "source": [
    "#### The global keyword\n",
    "- The global keyword pulls a variabl from the global namespace\n",
    "- Generally it is not good practice to do this within a function"
   ]
  },
  {
   "cell_type": "code",
   "execution_count": 9,
   "id": "9c829a97",
   "metadata": {},
   "outputs": [
    {
     "name": "stdout",
     "output_type": "stream",
     "text": [
      "20\n"
     ]
    }
   ],
   "source": [
    "x = 50\n",
    "\n",
    "def func():\n",
    "    global x\n",
    "    x = 20\n",
    "    print(x)\n",
    "    \n",
    "func()"
   ]
  },
  {
   "cell_type": "code",
   "execution_count": 10,
   "id": "7d58a4a4",
   "metadata": {},
   "outputs": [
    {
     "name": "stdout",
     "output_type": "stream",
     "text": [
      "20\n"
     ]
    }
   ],
   "source": [
    "print(x)"
   ]
  },
  {
   "cell_type": "code",
   "execution_count": null,
   "id": "01107c4f",
   "metadata": {},
   "outputs": [],
   "source": []
  }
 ],
 "metadata": {
  "kernelspec": {
   "display_name": "Python 3 (ipykernel)",
   "language": "python",
   "name": "python3"
  },
  "language_info": {
   "codemirror_mode": {
    "name": "ipython",
    "version": 3
   },
   "file_extension": ".py",
   "mimetype": "text/x-python",
   "name": "python",
   "nbconvert_exporter": "python",
   "pygments_lexer": "ipython3",
   "version": "3.9.12"
  }
 },
 "nbformat": 4,
 "nbformat_minor": 5
}
