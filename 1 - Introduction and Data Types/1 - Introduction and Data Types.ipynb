{
 "cells": [
  {
   "cell_type": "markdown",
   "id": "7f54c106",
   "metadata": {},
   "source": [
    "# Data Types\n",
    "## Introduction\n",
    "### Why Python\n",
    "- An easy to use language with a focus on readbility. Achieved by using white space as part of the syntax. \n",
    "- Has lots of exisitng frameworks making it very versitile. \n",
    "- Focuses on optimizing developer time rather than computer processing time.\n",
    "- Documentation is excellent along with support online. \n",
    "\n",
    "### Basic Windows Command Line Commands\n",
    "- cd 'directory name': Changes the current directory.\n",
    "- dir: lists all files and folders in current directory.\n",
    "- cls: Clears the command prompt screen.\n",
    "- Tab: autocomplete if file/folder name is in current directory.\n",
    "\n",
    "### Basic Linux and Mac Command Line Commands\n",
    "- cd 'directory name': Changes the current directory.\n",
    "- pwd: prints working directory.\n",
    "- ls: lists all files and folders in current directory. \n",
    "- clear: clears terminal screen.\n",
    "- Tab: autocomplete if file/folder name is in current directory."
   ]
  },
  {
   "cell_type": "markdown",
   "id": "bd598e17",
   "metadata": {},
   "source": [
    "## Data Types and Structures in Python\n",
    "### Data Types\n",
    "\n",
    "| Name           | Type  | Example                                                  |\n",
    "|----------------|-------|----------------------------------------------------------|\n",
    "| Integers       | int   | Whole numbers: 1  2  400                                 |\n",
    "| Floating Point | float | Numbers with a decimal point: 1.1  35.7  120.0           |\n",
    "| Strings        | str   | Ordered sequence of characters: 'hello' \"lemon\"          |\n",
    "| List           | list  | Ordered sequence of objects: [10,'hello',23.4]           |\n",
    "| Dictionaries   | dict  | Unordered Key:Value pairs: {'key':'value', 'name':'Dave' |\n",
    "| Tuples         | tup   | Ordered immutable sequence of objects: (10,'hello',23.4) |\n",
    "| Sets           | set   | Unordered collection of unique objects: {'a','b'}        |\n",
    "| Booleans       | bool  | Logical value indicating **True** or **False**           |"
   ]
  },
  {
   "cell_type": "markdown",
   "id": "7389048d",
   "metadata": {},
   "source": [
    "### Basic Operations\n",
    "\n",
    "| Name                 | Symbol |\n",
    "|----------------------|--------|\n",
    "| Assignment           | =      |\n",
    "| Addition             | +      |\n",
    "| Subtraction          | -      |\n",
    "| Multiplication       | *      |\n",
    "| Division             | /      |\n",
    "| Remainder or Modulus | %      |\n",
    "| Exponential          | **     |\n",
    "| Floor Division       | //     |\n",
    "\n",
    "### Examples of Operating on Int and Float data types"
   ]
  },
  {
   "cell_type": "code",
   "execution_count": 1,
   "id": "5003fdea",
   "metadata": {},
   "outputs": [
    {
     "name": "stdout",
     "output_type": "stream",
     "text": [
      "10\n",
      "7.5\n",
      "7\n",
      "2\n",
      "60.7\n"
     ]
    }
   ],
   "source": [
    "print(5+5)\n",
    "print(30/4)\n",
    "print(30//4)\n",
    "print(30%4)\n",
    "print(4+56.7)"
   ]
  },
  {
   "cell_type": "markdown",
   "id": "b84d9ab3",
   "metadata": {},
   "source": [
    "## Variable Assignemnt\n",
    "\n",
    "You can assign values to variables using the = operator. "
   ]
  },
  {
   "cell_type": "code",
   "execution_count": 2,
   "id": "6efb7c4e",
   "metadata": {},
   "outputs": [
    {
     "data": {
      "text/plain": [
       "23.7"
      ]
     },
     "execution_count": 2,
     "metadata": {},
     "output_type": "execute_result"
    }
   ],
   "source": [
    "a = 23.7\n",
    "a"
   ]
  },
  {
   "cell_type": "markdown",
   "id": "dc8cfb87",
   "metadata": {},
   "source": [
    "The rules when assigning variables:\n",
    "- Names cannot start with a number.\n",
    "- Names can only use alpha-numeric characters or underscores. (A-z, 0-9, _ instead of space).\n",
    "- Variable names are case sensitive. \n",
    "\n",
    "The best practices when assigning variables:\n",
    "- Follow PEP8\n",
    "- Avoid python keywords as variables (int, str, etc...). This stops them being used for their intent.\n",
    "- Make the names obvious to what the variable is (dogName NOT dn or dgnm).\n",
    "\n",
    "Python uses **Dynamic Typing**:\n",
    "- Variables can be reasigned different data types.\n",
    "- Statically typed languages would return an error from the example below.\n",
    "- the type() function allows you to check the data type of a variable."
   ]
  },
  {
   "cell_type": "code",
   "execution_count": 3,
   "id": "5c17ec64",
   "metadata": {},
   "outputs": [
    {
     "name": "stdout",
     "output_type": "stream",
     "text": [
      "11\n"
     ]
    }
   ],
   "source": [
    "food = 11\n",
    "print(food)"
   ]
  },
  {
   "cell_type": "code",
   "execution_count": 4,
   "id": "f3f2a2ab",
   "metadata": {},
   "outputs": [
    {
     "data": {
      "text/plain": [
       "int"
      ]
     },
     "execution_count": 4,
     "metadata": {},
     "output_type": "execute_result"
    }
   ],
   "source": [
    "type(food)"
   ]
  },
  {
   "cell_type": "code",
   "execution_count": 5,
   "id": "5ec9ae5f",
   "metadata": {},
   "outputs": [
    {
     "name": "stdout",
     "output_type": "stream",
     "text": [
      "orange\n"
     ]
    }
   ],
   "source": [
    "food = 'orange'\n",
    "print(food)"
   ]
  },
  {
   "cell_type": "code",
   "execution_count": 6,
   "id": "d8b40d7a",
   "metadata": {},
   "outputs": [
    {
     "data": {
      "text/plain": [
       "str"
      ]
     },
     "execution_count": 6,
     "metadata": {},
     "output_type": "execute_result"
    }
   ],
   "source": [
    "type(food)"
   ]
  },
  {
   "cell_type": "markdown",
   "id": "54443faf",
   "metadata": {},
   "source": [
    "## Strings\n",
    "\n",
    "- Is a list of charaters\n",
    "- can use double or signle qutoes \n",
    "- The function len() gives you the length of a string"
   ]
  },
  {
   "cell_type": "code",
   "execution_count": 7,
   "id": "b1db66ac",
   "metadata": {},
   "outputs": [],
   "source": [
    "'This is a string'\n",
    "\"I'm also a string\"\n",
    "string = 'abcdefg hijkl'"
   ]
  },
  {
   "cell_type": "code",
   "execution_count": 8,
   "id": "e947da2e",
   "metadata": {},
   "outputs": [
    {
     "data": {
      "text/plain": [
       "13"
      ]
     },
     "execution_count": 8,
     "metadata": {},
     "output_type": "execute_result"
    }
   ],
   "source": [
    "len(string)"
   ]
  },
  {
   "cell_type": "markdown",
   "id": "98762d70",
   "metadata": {},
   "source": [
    "### Slicing and Indexing\n",
    " - Indexing selects from a list\n",
    " - Slicing selects a slice from a list\n",
    " - you use the position of the object in either forward or reverse<br />\n",
    " String H  E  L  L  O <br />\n",
    " Forward Index 0   1   2   3   4 <br />\n",
    " Reverse Index 0 -4 -3 -2 -1 <br />"
   ]
  },
  {
   "cell_type": "code",
   "execution_count": 9,
   "id": "0194d8aa",
   "metadata": {},
   "outputs": [
    {
     "name": "stdout",
     "output_type": "stream",
     "text": [
      "a\n"
     ]
    },
    {
     "data": {
      "text/plain": [
       "'n'"
      ]
     },
     "execution_count": 9,
     "metadata": {},
     "output_type": "execute_result"
    }
   ],
   "source": [
    "#Indexing \n",
    "print(string[0])\n",
    "'String Test'[4]"
   ]
  },
  {
   "cell_type": "code",
   "execution_count": 10,
   "id": "e710a68e",
   "metadata": {},
   "outputs": [
    {
     "name": "stdout",
     "output_type": "stream",
     "text": [
      "k\n"
     ]
    }
   ],
   "source": [
    "print(string[-2])"
   ]
  },
  {
   "cell_type": "markdown",
   "id": "89f1727b",
   "metadata": {},
   "source": [
    "- Slicing selects elements of a list using the form [Start:Stop:Step]. \n",
    "- Start is included when slicing but Stop is not\n",
    "- Step does not have to be included and empty Start/Stop means go from the start/to the end. "
   ]
  },
  {
   "cell_type": "code",
   "execution_count": 11,
   "id": "9246e950",
   "metadata": {},
   "outputs": [
    {
     "data": {
      "text/plain": [
       "'cde'"
      ]
     },
     "execution_count": 11,
     "metadata": {},
     "output_type": "execute_result"
    }
   ],
   "source": [
    "string[2:5]"
   ]
  },
  {
   "cell_type": "code",
   "execution_count": 12,
   "id": "8ad72405",
   "metadata": {},
   "outputs": [
    {
     "data": {
      "text/plain": [
       "'fg hijkl'"
      ]
     },
     "execution_count": 12,
     "metadata": {},
     "output_type": "execute_result"
    }
   ],
   "source": [
    "string[5:]"
   ]
  },
  {
   "cell_type": "code",
   "execution_count": 13,
   "id": "1d3e7f08",
   "metadata": {},
   "outputs": [
    {
     "data": {
      "text/plain": [
       "'lkjih gfedcba'"
      ]
     },
     "execution_count": 13,
     "metadata": {},
     "output_type": "execute_result"
    }
   ],
   "source": [
    "string[::-1]"
   ]
  },
  {
   "cell_type": "code",
   "execution_count": 14,
   "id": "a3800e83",
   "metadata": {},
   "outputs": [
    {
     "data": {
      "text/plain": [
       "'aceghjl'"
      ]
     },
     "execution_count": 14,
     "metadata": {},
     "output_type": "execute_result"
    }
   ],
   "source": [
    "string[::2]"
   ]
  },
  {
   "cell_type": "markdown",
   "id": "62655f95",
   "metadata": {},
   "source": [
    "### String Properties and Methods\n",
    "- Stings are immutable. i.e you cannot change strings.\n",
    "- You can conncatenate strings (join them together).\n",
    "- Be aware of datatypes"
   ]
  },
  {
   "cell_type": "code",
   "execution_count": 15,
   "id": "b1dcb5de",
   "metadata": {},
   "outputs": [
    {
     "data": {
      "text/plain": [
       "'Paradise'"
      ]
     },
     "execution_count": 15,
     "metadata": {},
     "output_type": "execute_result"
    }
   ],
   "source": [
    "'P' + 'aradise'"
   ]
  },
  {
   "cell_type": "code",
   "execution_count": 16,
   "id": "e5c81288",
   "metadata": {},
   "outputs": [
    {
     "name": "stdout",
     "output_type": "stream",
     "text": [
      "5\n",
      "23\n"
     ]
    }
   ],
   "source": [
    "print(2 + 3)\n",
    "print('2' + '3')"
   ]
  },
  {
   "cell_type": "markdown",
   "id": "daade57a",
   "metadata": {},
   "source": [
    "- Strings have built in methods\n",
    "- press tab after x. to see all the methods available\n",
    "- Some key methods:\n",
    "- upper(): uppercases all letters \n",
    "- lower(): lowercases all letters\n",
    "- split(): creates a list of all the words. Can take an argument on what to split on. "
   ]
  },
  {
   "cell_type": "code",
   "execution_count": 17,
   "id": "2fc5cfed",
   "metadata": {},
   "outputs": [
    {
     "name": "stdout",
     "output_type": "stream",
     "text": [
      "HELLO WORLD\n",
      "hello world\n",
      "['Hello', 'World']\n"
     ]
    }
   ],
   "source": [
    "x = 'Hello World'\n",
    "#x. #press tab to see all available methods\n",
    "print(x.upper())\n",
    "print(x.lower())\n",
    "print(x.split())"
   ]
  },
  {
   "cell_type": "markdown",
   "id": "82393517",
   "metadata": {},
   "source": [
    "### String Print Formatting\n",
    "- There are two main formatting methods for Python .format() and f-string.\n",
    "- .format() uses curly brackets {} to indicate where values are to be inserted into a string.\n",
    "- you can have multiple brackets and order the inputs."
   ]
  },
  {
   "cell_type": "code",
   "execution_count": 18,
   "id": "1ed9e047",
   "metadata": {},
   "outputs": [
    {
     "name": "stdout",
     "output_type": "stream",
     "text": [
      "I am the Best\n"
     ]
    }
   ],
   "source": [
    "y = 'I am the {}'\n",
    "print(y.format('Best'))"
   ]
  },
  {
   "cell_type": "code",
   "execution_count": 19,
   "id": "d5e2e7df",
   "metadata": {},
   "outputs": [
    {
     "name": "stdout",
     "output_type": "stream",
     "text": [
      "The quick brown fox\n",
      "The fox brown quick\n",
      "The quick fox brown\n"
     ]
    }
   ],
   "source": [
    "z = 'The {} {} {}'\n",
    "a = 'The {2} {1} {0}'\n",
    "b = 'The {q} {f} {b}'\n",
    "print(z.format('quick', 'brown', 'fox'))\n",
    "print(a.format('quick', 'brown', 'fox'))\n",
    "print(b.format(q='quick', b='brown', f='fox'))"
   ]
  },
  {
   "cell_type": "markdown",
   "id": "ac692717",
   "metadata": {},
   "source": [
    "- .format() can be used to define the precision of an output\n",
    "- It takes the form {value:width.precision f}\n",
    "- Value is the result, width is how much space you want, precisions is the number of decimals you want to include. Don't forget the f at the end."
   ]
  },
  {
   "cell_type": "code",
   "execution_count": 20,
   "id": "8b19151c",
   "metadata": {},
   "outputs": [
    {
     "name": "stdout",
     "output_type": "stream",
     "text": [
      "The result was 104.12935\n",
      "The result was    104.129\n"
     ]
    }
   ],
   "source": [
    "result = 104.1293456\n",
    "print('The result was {r:1.5f}'.format(r=result))\n",
    "print('The result was {r:10.3f}'.format(r=result))"
   ]
  },
  {
   "cell_type": "markdown",
   "id": "80a236ff",
   "metadata": {},
   "source": [
    "- f-string allows you to insert the results inside the string\n",
    "- it is common in other languages and was added in python 3.6\n",
    "- it takes the form f'string {variable}'."
   ]
  },
  {
   "cell_type": "code",
   "execution_count": 21,
   "id": "9767dc66",
   "metadata": {},
   "outputs": [
    {
     "name": "stdout",
     "output_type": "stream",
     "text": [
      "My name is Bob and I am 5 years old\n"
     ]
    }
   ],
   "source": [
    "name = 'Bob'\n",
    "age = 5\n",
    "print(f'My name is {name} and I am {age} years old')"
   ]
  },
  {
   "cell_type": "markdown",
   "id": "da2266ef",
   "metadata": {},
   "source": [
    "## Lists\n",
    "- Lists are defined by square brackets and are ordered.\n",
    "- They can be indexed, sliced and concatenated just like strings.\n",
    "- Ulike strings, they can be mutated (modified).\n",
    "- They can take multiple datatypes in one list.\n",
    "- Like strings, lists also have a bunch of built in methods.\n",
    "- append(): add an item to the end of the list.\n",
    "- pop(): remove the end item from the list or pass the index of the item you wish to remove. This works inplace and returns the popped item\n",
    "- sort(): sorts a list alphabeticaly/numerically. Occurs INPLACE (sorts original list without returning anything)"
   ]
  },
  {
   "cell_type": "code",
   "execution_count": 22,
   "id": "663ecb41",
   "metadata": {},
   "outputs": [
    {
     "name": "stdout",
     "output_type": "stream",
     "text": [
      "[0, 4, 6, 3, 8, 9]\n",
      "['lemon', 4, 6, 3, 8, 9]\n"
     ]
    }
   ],
   "source": [
    "myList = [0, 4, 6, 3, 8, 9]\n",
    "print(myList)\n",
    "myList[0] = 'lemon'\n",
    "print(myList)"
   ]
  },
  {
   "cell_type": "code",
   "execution_count": 23,
   "id": "0f49f6c7",
   "metadata": {},
   "outputs": [
    {
     "name": "stdout",
     "output_type": "stream",
     "text": [
      "['lemon', 4, 6, 3, 8, 9, 'banana']\n"
     ]
    }
   ],
   "source": [
    "myList.append('banana')\n",
    "print(myList)"
   ]
  },
  {
   "cell_type": "code",
   "execution_count": 24,
   "id": "082f45cb",
   "metadata": {},
   "outputs": [
    {
     "name": "stdout",
     "output_type": "stream",
     "text": [
      "['lemon', 4, 6, 3, 8, 9]\n"
     ]
    }
   ],
   "source": [
    "myList.pop()\n",
    "print(myList)"
   ]
  },
  {
   "cell_type": "code",
   "execution_count": 25,
   "id": "d1e80d0a",
   "metadata": {},
   "outputs": [
    {
     "name": "stdout",
     "output_type": "stream",
     "text": [
      "[4, 6, 3, 8, 9]\n"
     ]
    }
   ],
   "source": [
    "myList.pop(0)\n",
    "print(myList)"
   ]
  },
  {
   "cell_type": "code",
   "execution_count": 26,
   "id": "9375b0ac",
   "metadata": {},
   "outputs": [
    {
     "name": "stdout",
     "output_type": "stream",
     "text": [
      "[3, 4, 6, 8, 9]\n"
     ]
    }
   ],
   "source": [
    "myList.sort()\n",
    "print(myList)"
   ]
  },
  {
   "cell_type": "markdown",
   "id": "cc3d8169",
   "metadata": {},
   "source": [
    "## Dictionaries\n",
    "- Dictionaries are a mapping of key:value pairs and use curly brackets and colons {'key':'value',}.\n",
    "- Dictionaries are unordered and allow users to retrieve values based on the key rather than on the items index. \n",
    "- The values can be pretty much anything: ints, floats, strings, lists, other dictionaries etc...\n",
    "- Dictionaries can have key:value pairs added or modified. \n",
    "- Main methods include:\n",
    "- keys(): return all keys\n",
    "- values(): return all values \n",
    "- items(): return key:value pairs\n",
    "- It is possible to string commands together to achieve results. "
   ]
  },
  {
   "cell_type": "code",
   "execution_count": 27,
   "id": "1bae9432",
   "metadata": {},
   "outputs": [
    {
     "name": "stdout",
     "output_type": "stream",
     "text": [
      "value1\n",
      "[10, 11, 'test']\n",
      "11\n"
     ]
    }
   ],
   "source": [
    "myDict = {'key1':'value1', 'key2':'Value2', 'key3':[10,11,'test']}\n",
    "print(myDict['key1'])\n",
    "print(myDict['key3'])\n",
    "print(myDict['key3'][1])"
   ]
  },
  {
   "cell_type": "code",
   "execution_count": 28,
   "id": "571359af",
   "metadata": {},
   "outputs": [
    {
     "name": "stdout",
     "output_type": "stream",
     "text": [
      "{'key1': 'value1', 'key2': 'Value2', 'key3': [10, 11, 'test'], 'key4': 4}\n",
      "{'key1': 'NEW VALUE', 'key2': 'Value2', 'key3': [10, 11, 'test'], 'key4': 4}\n"
     ]
    }
   ],
   "source": [
    "myDict['key4'] = 4\n",
    "print(myDict)\n",
    "myDict['key1'] = 'NEW VALUE'\n",
    "print(myDict)"
   ]
  },
  {
   "cell_type": "code",
   "execution_count": 29,
   "id": "03919e08",
   "metadata": {},
   "outputs": [
    {
     "data": {
      "text/plain": [
       "'TEST'"
      ]
     },
     "execution_count": 29,
     "metadata": {},
     "output_type": "execute_result"
    }
   ],
   "source": [
    "myDict['key3'][2].upper()"
   ]
  },
  {
   "cell_type": "code",
   "execution_count": 30,
   "id": "da413f94",
   "metadata": {},
   "outputs": [],
   "source": [
    "#myDict."
   ]
  },
  {
   "cell_type": "markdown",
   "id": "18356c84",
   "metadata": {},
   "source": [
    "## Tuples\n",
    "- Tuples are very similar to list apart from they are immutable.\n",
    "- THis makes them useful for mocing data around a program and preventing it accidently getting changed.\n",
    "- Tuples are defined using brackets (). \n",
    "- There are two built in methods for tuples:\n",
    "- count(): counts the number of times an item appears in the tuple\n",
    "- index(): returns the index of the first appearnace of an item"
   ]
  },
  {
   "cell_type": "code",
   "execution_count": 31,
   "id": "0053d9b2",
   "metadata": {},
   "outputs": [
    {
     "data": {
      "text/plain": [
       "4"
      ]
     },
     "execution_count": 31,
     "metadata": {},
     "output_type": "execute_result"
    }
   ],
   "source": [
    "t = (1, 2, 3, 3, 3, 3)\n",
    "t.count(3)"
   ]
  },
  {
   "cell_type": "code",
   "execution_count": 32,
   "id": "d17d1b23",
   "metadata": {},
   "outputs": [
    {
     "data": {
      "text/plain": [
       "2"
      ]
     },
     "execution_count": 32,
     "metadata": {},
     "output_type": "execute_result"
    }
   ],
   "source": [
    "t.index(3)"
   ]
  },
  {
   "cell_type": "markdown",
   "id": "e24f34fc",
   "metadata": {},
   "source": [
    "## Sets\n",
    "- Sets are unordered elements of unique items\n",
    "- They are defined by the keyword set()."
   ]
  },
  {
   "cell_type": "code",
   "execution_count": 33,
   "id": "00927d35",
   "metadata": {},
   "outputs": [
    {
     "name": "stdout",
     "output_type": "stream",
     "text": [
      "{2, 5, 7}\n"
     ]
    }
   ],
   "source": [
    "listtest = [2,2,2,2,2,2,5,5,5,5,5,7,7,7,7,7,7]\n",
    "setTest = set(listtest)\n",
    "print(setTest)"
   ]
  },
  {
   "cell_type": "code",
   "execution_count": 34,
   "id": "6d289520",
   "metadata": {},
   "outputs": [
    {
     "name": "stdout",
     "output_type": "stream",
     "text": [
      "{8, 2, 5, 7}\n"
     ]
    }
   ],
   "source": [
    "setTest.add(8)\n",
    "print(setTest)"
   ]
  },
  {
   "cell_type": "markdown",
   "id": "b197ec17",
   "metadata": {},
   "source": [
    "## Booleans and None values\n",
    "- True, False and None are Bool values in Python. They are case sensitive and need a capital T, F and N. "
   ]
  },
  {
   "cell_type": "code",
   "execution_count": 35,
   "id": "56b8f723",
   "metadata": {},
   "outputs": [
    {
     "data": {
      "text/plain": [
       "True"
      ]
     },
     "execution_count": 35,
     "metadata": {},
     "output_type": "execute_result"
    }
   ],
   "source": [
    "1 == 1"
   ]
  },
  {
   "cell_type": "code",
   "execution_count": 36,
   "id": "6f961d8a",
   "metadata": {},
   "outputs": [
    {
     "data": {
      "text/plain": [
       "False"
      ]
     },
     "execution_count": 36,
     "metadata": {},
     "output_type": "execute_result"
    }
   ],
   "source": [
    "1 == 2"
   ]
  },
  {
   "cell_type": "code",
   "execution_count": 37,
   "id": "02cb2a1b",
   "metadata": {},
   "outputs": [
    {
     "name": "stdout",
     "output_type": "stream",
     "text": [
      "None\n"
     ]
    }
   ],
   "source": [
    "b = None\n",
    "print(b)"
   ]
  },
  {
   "cell_type": "markdown",
   "id": "363cf115",
   "metadata": {},
   "source": [
    "## Basic I/O with files\n",
    "- Python can read and write to various files\n",
    "- open(): open the file - ensure the file path is correct if not in same file as notebook/script.\n",
    "- file paths on windows use double backslash ie. C:\\\\One\\\\Two\\\\Three...\n",
    "- There are a number of methods you can use on a txt file.\n",
    "- read(): return the whole content as one string. \n",
    "- seek(): move the curser to a location in the file (after read() the curser will be at the end of the file and you will need to use seek(0) to return the curser to the start. You cannot read the file again unless the curser is at the start. \n",
    "- readlines(): puts every line into a list\n",
    "- close(): closes the file."
   ]
  },
  {
   "cell_type": "code",
   "execution_count": 38,
   "id": "341c0de5",
   "metadata": {},
   "outputs": [
    {
     "data": {
      "text/plain": [
       "'This is an overwrite'"
      ]
     },
     "execution_count": 38,
     "metadata": {},
     "output_type": "execute_result"
    }
   ],
   "source": [
    "myfile = open('test.txt')\n",
    "myfile.read()"
   ]
  },
  {
   "cell_type": "code",
   "execution_count": 39,
   "id": "a5336114",
   "metadata": {},
   "outputs": [
    {
     "data": {
      "text/plain": [
       "''"
      ]
     },
     "execution_count": 39,
     "metadata": {},
     "output_type": "execute_result"
    }
   ],
   "source": [
    "myfile.read()"
   ]
  },
  {
   "cell_type": "code",
   "execution_count": 40,
   "id": "4fbae953",
   "metadata": {},
   "outputs": [
    {
     "data": {
      "text/plain": [
       "'This is an overwrite'"
      ]
     },
     "execution_count": 40,
     "metadata": {},
     "output_type": "execute_result"
    }
   ],
   "source": [
    "myfile.seek(0)\n",
    "myfile.read()"
   ]
  },
  {
   "cell_type": "code",
   "execution_count": 41,
   "id": "729c14b8",
   "metadata": {},
   "outputs": [
    {
     "data": {
      "text/plain": [
       "['This is an overwrite']"
      ]
     },
     "execution_count": 41,
     "metadata": {},
     "output_type": "execute_result"
    }
   ],
   "source": [
    "myfile.seek(0)\n",
    "myfile.readlines()"
   ]
  },
  {
   "cell_type": "code",
   "execution_count": 42,
   "id": "c1a56766",
   "metadata": {},
   "outputs": [],
   "source": [
    "myfile.close()"
   ]
  },
  {
   "cell_type": "markdown",
   "id": "cfc23d80",
   "metadata": {},
   "source": [
    "- Good practice opens files using WITH and AS. close() is not not needed which prevents errors.\n",
    "- the mode argument allows you to adjust the read or write permissions. It also allows you to create new files. open(file, mode = 'r')\n",
    "- 'r' is read only.\n",
    "- 'w' is overwrite a file or create a new one.\n",
    "- 'a' is append to the file."
   ]
  },
  {
   "cell_type": "code",
   "execution_count": 43,
   "id": "3e6e7e41",
   "metadata": {},
   "outputs": [
    {
     "data": {
      "text/plain": [
       "'This is an overwrite'"
      ]
     },
     "execution_count": 43,
     "metadata": {},
     "output_type": "execute_result"
    }
   ],
   "source": [
    "with open('test.txt') as new_variable:\n",
    "    contents = new_variable.read()\n",
    "    \n",
    "contents"
   ]
  },
  {
   "cell_type": "code",
   "execution_count": 44,
   "id": "7d686545",
   "metadata": {},
   "outputs": [],
   "source": [
    "with open('test.txt', mode = 'a') as f:\n",
    "    f.write('\\nThis is line four')\n",
    "    "
   ]
  },
  {
   "cell_type": "code",
   "execution_count": 45,
   "id": "47850f1d",
   "metadata": {},
   "outputs": [
    {
     "name": "stdout",
     "output_type": "stream",
     "text": [
      "This is an overwrite\n",
      "This is line four\n"
     ]
    }
   ],
   "source": [
    "with open('test.txt') as f:\n",
    "    print(f.read())"
   ]
  },
  {
   "cell_type": "code",
   "execution_count": 46,
   "id": "5d87f497",
   "metadata": {},
   "outputs": [
    {
     "name": "stdout",
     "output_type": "stream",
     "text": [
      "This is an overwrite\n"
     ]
    }
   ],
   "source": [
    "with open('test.txt', mode = 'w') as f:\n",
    "    f.write('This is an overwrite')\n",
    "    \n",
    "with open('test.txt') as f:\n",
    "    print(f.read())    "
   ]
  },
  {
   "cell_type": "markdown",
   "id": "b7c0e0a8",
   "metadata": {},
   "source": [
    "## Comparison and Logical Operators\n",
    "### Comparison\n",
    "\n",
    "| Operator | Description                                                                               | Example         |\n",
    "|----------|-------------------------------------------------------------------------------------------|-----------------|\n",
    "| ==       | Checks to see if two values are equal                                                     | a == b is False |\n",
    "| !=       | Checks to see if two values are not equal                                                 | a != b is True  |\n",
    "| >        | Checks to see if the value on the left is greater than the value on the right             | 3 > 2 is True   |\n",
    "| <        | Checks to see if the value on the left is smaller than the value on the right             | 3 < 2 is False  |\n",
    "| >=       | Checks to see if the value on the left is greater than or equal to the value on the right | 3 >= 3 is True  |\n",
    "| <=       | Checks to see if the value on the left is smaller than or equal to the value on the right | 3 <= 1 is False |\n",
    "\n",
    "### Logical\n",
    "and: checks the two propositions are true\n",
    "or: checks at least one of the propositions is true\n",
    "not: returns opposite boolean to the proposition"
   ]
  },
  {
   "cell_type": "code",
   "execution_count": 47,
   "id": "3e0c6cd9",
   "metadata": {},
   "outputs": [
    {
     "data": {
      "text/plain": [
       "True"
      ]
     },
     "execution_count": 47,
     "metadata": {},
     "output_type": "execute_result"
    }
   ],
   "source": [
    "1 == 1 and 2 == 2"
   ]
  },
  {
   "cell_type": "code",
   "execution_count": 48,
   "id": "2982c01b",
   "metadata": {},
   "outputs": [
    {
     "data": {
      "text/plain": [
       "False"
      ]
     },
     "execution_count": 48,
     "metadata": {},
     "output_type": "execute_result"
    }
   ],
   "source": [
    "1 == 1 and 2 == 1"
   ]
  },
  {
   "cell_type": "code",
   "execution_count": 49,
   "id": "9aeec876",
   "metadata": {},
   "outputs": [
    {
     "data": {
      "text/plain": [
       "True"
      ]
     },
     "execution_count": 49,
     "metadata": {},
     "output_type": "execute_result"
    }
   ],
   "source": [
    "1 ==1 or 2 == 1"
   ]
  },
  {
   "cell_type": "code",
   "execution_count": 50,
   "id": "c27bf163",
   "metadata": {},
   "outputs": [
    {
     "data": {
      "text/plain": [
       "True"
      ]
     },
     "execution_count": 50,
     "metadata": {},
     "output_type": "execute_result"
    }
   ],
   "source": [
    "not 1 == 2"
   ]
  }
 ],
 "metadata": {
  "kernelspec": {
   "display_name": "Python 3",
   "language": "python",
   "name": "python3"
  },
  "language_info": {
   "codemirror_mode": {
    "name": "ipython",
    "version": 3
   },
   "file_extension": ".py",
   "mimetype": "text/x-python",
   "name": "python",
   "nbconvert_exporter": "python",
   "pygments_lexer": "ipython3",
   "version": "3.9.12"
  }
 },
 "nbformat": 4,
 "nbformat_minor": 5
}
