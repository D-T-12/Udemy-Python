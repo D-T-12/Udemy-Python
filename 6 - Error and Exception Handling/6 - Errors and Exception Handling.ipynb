{
 "cells": [
  {
   "cell_type": "markdown",
   "id": "a5f3680a",
   "metadata": {},
   "source": [
    "# Errors and Exception Handling\n",
    "- Error handling is used to plan for likely errors. \n",
    "- Errors are controlled using the try/except/finally key words.\n",
    "- try is the initial code to run.\n",
    "- except is executed if an error occurs in the try block of code.\n",
    "- finally runs regardless of errors or not."
   ]
  },
  {
   "cell_type": "code",
   "execution_count": 2,
   "id": "e1d58473",
   "metadata": {},
   "outputs": [],
   "source": [
    "try:\n",
    "    pass\n",
    "    #Code to be tested\n",
    "except:\n",
    "    pass\n",
    "    #Code run on error in try\n",
    "finally:\n",
    "    pass\n",
    "    #Code run regardless of error or not"
   ]
  },
  {
   "cell_type": "code",
   "execution_count": 4,
   "id": "2c77280f",
   "metadata": {},
   "outputs": [
    {
     "name": "stdout",
     "output_type": "stream",
     "text": [
      "20\n",
      "The Finally Code\n"
     ]
    }
   ],
   "source": [
    "try:\n",
    "    result = 10 + 10\n",
    "    print(result)\n",
    "except:\n",
    "    print('Error Occured')\n",
    "finally:\n",
    "    print('The Finally Code')"
   ]
  },
  {
   "cell_type": "code",
   "execution_count": 5,
   "id": "bd64be32",
   "metadata": {},
   "outputs": [
    {
     "name": "stdout",
     "output_type": "stream",
     "text": [
      "Error Occured\n",
      "The Finally Code\n"
     ]
    }
   ],
   "source": [
    "try:\n",
    "    result = 10 + '10'\n",
    "    print(result)\n",
    "except:\n",
    "    print('Error Occured')\n",
    "finally:\n",
    "    print('The Finally Code')"
   ]
  },
  {
   "cell_type": "markdown",
   "id": "054b22c2",
   "metadata": {},
   "source": [
    "## Specific Errors\n",
    "- Except can be used for specific built in errors\n",
    "- Multiple except statements can be used for different errors"
   ]
  },
  {
   "cell_type": "code",
   "execution_count": 10,
   "id": "554e9de2",
   "metadata": {},
   "outputs": [
    {
     "name": "stdout",
     "output_type": "stream",
     "text": [
      "TypeError Occured\n",
      "The Finally Code\n"
     ]
    }
   ],
   "source": [
    "try:\n",
    "    result = 10 + '10'\n",
    "    print(result)\n",
    "except TypeError:\n",
    "    print('TypeError Occured')\n",
    "except:\n",
    "    print('A different error occured')\n",
    "finally:\n",
    "    print('The Finally Code')"
   ]
  },
  {
   "cell_type": "code",
   "execution_count": 9,
   "id": "f1310ce0",
   "metadata": {},
   "outputs": [
    {
     "name": "stdout",
     "output_type": "stream",
     "text": [
      "A different error occured\n",
      "The Finally Code\n"
     ]
    }
   ],
   "source": [
    "try:\n",
    "    result = 10 + lemon\n",
    "    print(result)\n",
    "except TypeError:\n",
    "    print('TypeError Occured')\n",
    "except:\n",
    "    print('A different error occured')\n",
    "finally:\n",
    "    print('The Finally Code')"
   ]
  },
  {
   "cell_type": "markdown",
   "id": "9115c09e",
   "metadata": {},
   "source": [
    "## While loop\n",
    "- A good use case for this is checking user input\n",
    "- A while loop can be used to repeat code that returns errors initially.\n",
    "- An else statement can be used for executing code when the try code runs correctly."
   ]
  },
  {
   "cell_type": "code",
   "execution_count": 11,
   "id": "d37036e8",
   "metadata": {},
   "outputs": [
    {
     "name": "stdout",
     "output_type": "stream",
     "text": [
      "Input a number: k\n",
      "please input a number only\n",
      "I always run\n",
      "Input a number: l\n",
      "please input a number only\n",
      "I always run\n",
      "Input a number: 1\n",
      "User input a number and the code ran correctly\n",
      "I always run\n"
     ]
    }
   ],
   "source": [
    "while True:\n",
    "    try:\n",
    "        result = int(input('Input a number: '))\n",
    "        \n",
    "    except:\n",
    "        print('please input a number only')\n",
    "    else:\n",
    "        print('User input a number and the code ran correctly')\n",
    "        break\n",
    "    finally:\n",
    "        print('I always run')"
   ]
  },
  {
   "cell_type": "markdown",
   "id": "bffea886",
   "metadata": {},
   "source": [
    "## Pylint and Unittest\n",
    "- Pylint is a code convention checker\n",
    "- install the Pylint module and then use pylint 'filename.py' -r y to run \n",
    "- Unittest is a library to use to write your own code test scripts"
   ]
  },
  {
   "cell_type": "code",
   "execution_count": 5,
   "id": "86e13c3d",
   "metadata": {},
   "outputs": [],
   "source": [
    "import unittest\n",
    "#import file to be tested - usually they would be different files\n",
    "\n",
    "def func2btested(text):\n",
    "    return text.capitalize()\n",
    "\n",
    "class Test(unittest.TestCase):\n",
    "    \n",
    "    def Test_One(self):\n",
    "        TestInput = 'test' #input to test\n",
    "        result = func2btested(TestInput)\n",
    "        self.assertEqual(result,'Test') #Check output is correct \n",
    "        \n",
    "#This only demonstrates a test file layout. "
   ]
  },
  {
   "cell_type": "code",
   "execution_count": null,
   "id": "c0195945",
   "metadata": {},
   "outputs": [],
   "source": []
  }
 ],
 "metadata": {
  "kernelspec": {
   "display_name": "Python 3 (ipykernel)",
   "language": "python",
   "name": "python3"
  },
  "language_info": {
   "codemirror_mode": {
    "name": "ipython",
    "version": 3
   },
   "file_extension": ".py",
   "mimetype": "text/x-python",
   "name": "python",
   "nbconvert_exporter": "python",
   "pygments_lexer": "ipython3",
   "version": "3.9.12"
  }
 },
 "nbformat": 4,
 "nbformat_minor": 5
}
