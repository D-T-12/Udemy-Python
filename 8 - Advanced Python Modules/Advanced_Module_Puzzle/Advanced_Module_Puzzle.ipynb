{
 "cells": [
  {
   "cell_type": "code",
   "execution_count": 7,
   "id": "822ce1b1",
   "metadata": {},
   "outputs": [],
   "source": [
    "import shutil\n",
    "import os"
   ]
  },
  {
   "cell_type": "code",
   "execution_count": 9,
   "id": "88ca8053",
   "metadata": {},
   "outputs": [
    {
     "data": {
      "text/plain": [
       "'C:\\\\Users\\\\bentu_jrl8t90\\\\OneDrive\\\\Python and AI\\\\Udemy Python\\\\Assessments\\\\Advanced_Module_Puzzle'"
      ]
     },
     "execution_count": 9,
     "metadata": {},
     "output_type": "execute_result"
    }
   ],
   "source": [
    "pwd"
   ]
  },
  {
   "cell_type": "code",
   "execution_count": 4,
   "id": "64659ec3",
   "metadata": {},
   "outputs": [],
   "source": [
    "shutil.unpack_archive('unzip_me_for_instructions.zip','unzipped','zip')"
   ]
  },
  {
   "cell_type": "code",
   "execution_count": 11,
   "id": "e6ca4b27",
   "metadata": {},
   "outputs": [
    {
     "data": {
      "text/plain": [
       "['Five', 'Four', 'Instructions.txt', 'One', 'Three', 'Two']"
      ]
     },
     "execution_count": 11,
     "metadata": {},
     "output_type": "execute_result"
    }
   ],
   "source": [
    "os.listdir('C:\\\\Users\\\\bentu_jrl8t90\\\\OneDrive\\\\Python and AI\\\\Udemy Python\\\\Assessments\\\\Advanced_Module_Puzzle\\\\unzipped\\\\extracted_content')"
   ]
  },
  {
   "cell_type": "code",
   "execution_count": 38,
   "id": "c8be5774",
   "metadata": {},
   "outputs": [],
   "source": [
    "f = open('C:\\\\Users\\\\bentu_jrl8t90\\\\OneDrive\\\\Python and AI\\\\Udemy Python\\\\Assessments\\\\Advanced_Module_Puzzle\\\\unzipped\\\\extracted_content\\\\Instructions.txt')"
   ]
  },
  {
   "cell_type": "code",
   "execution_count": 39,
   "id": "addc89b3",
   "metadata": {},
   "outputs": [
    {
     "name": "stdout",
     "output_type": "stream",
     "text": [
      "Good work on unzipping the file!\n",
      "You should now see 5 folders, each with a lot of random .txt files.\n",
      "Within one of these text files is a telephone number formated ###-###-#### \n",
      "Use the Python os module and regular expressions to iterate through each file, open it, and search for a telephone number.\n",
      "Good luck!\n"
     ]
    }
   ],
   "source": [
    "print(f.read())"
   ]
  },
  {
   "cell_type": "code",
   "execution_count": 40,
   "id": "294ace5c",
   "metadata": {},
   "outputs": [],
   "source": [
    "f.close()"
   ]
  },
  {
   "cell_type": "code",
   "execution_count": 51,
   "id": "cdc276b0",
   "metadata": {},
   "outputs": [],
   "source": [
    "filepath = 'C:\\\\Users\\\\bentu_jrl8t90\\\\OneDrive\\\\Python and AI\\\\Udemy Python\\\\Assessments\\\\Advanced_Module_Puzzle\\\\unzipped\\\\extracted_content'"
   ]
  },
  {
   "cell_type": "code",
   "execution_count": 81,
   "id": "c21d3ee5",
   "metadata": {},
   "outputs": [
    {
     "name": "stdout",
     "output_type": "stream",
     "text": [
      "['719-266-2837']\n"
     ]
    }
   ],
   "source": [
    "import re\n",
    "\n",
    "result = None\n",
    "pattern = r\"\\d{3}-\\d{3}-\\d{4}\"\n",
    "flag = 0\n",
    "#Iterate through files\n",
    "for folder, sub_folder, file, in os.walk(filepath):\n",
    "    \n",
    "    #Iterate through files\n",
    "    for x in file:\n",
    "        f = open(f\"{folder}\\\\{x}\") #Sub folder is included in folder\n",
    "        result = re.findall(pattern, f.read())\n",
    "        \n",
    "        #Test for a result\n",
    "        if len(result) > 0:\n",
    "            flag = 1\n",
    "            print(result)\n",
    "            break\n",
    "            \n",
    "    #Break loop if result      \n",
    "    if flag == 1:\n",
    "        break"
   ]
  }
 ],
 "metadata": {
  "kernelspec": {
   "display_name": "Python 3",
   "language": "python",
   "name": "python3"
  },
  "language_info": {
   "codemirror_mode": {
    "name": "ipython",
    "version": 3
   },
   "file_extension": ".py",
   "mimetype": "text/x-python",
   "name": "python",
   "nbconvert_exporter": "python",
   "pygments_lexer": "ipython3",
   "version": "3.9.12"
  }
 },
 "nbformat": 4,
 "nbformat_minor": 5
}
