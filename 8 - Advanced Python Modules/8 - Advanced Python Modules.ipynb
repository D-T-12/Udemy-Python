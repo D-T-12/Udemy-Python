{
 "cells": [
  {
   "cell_type": "markdown",
   "id": "95511c99",
   "metadata": {},
   "source": [
    "# Python Advanced Modules\n",
    "- There are more built-in modules in python that are highly useful\n",
    "- These are:\n",
    "- Collections\n",
    "- OS module and Datetime\n",
    "- Math and Random\n",
    "- Python Debugger\n",
    "- Timeit\n",
    "- Regular Expressions\n",
    "- Unzipping and Zipping modules\n",
    "## Collections\n",
    "- The collections mosule contains advanced containers. "
   ]
  },
  {
   "cell_type": "code",
   "execution_count": 5,
   "id": "c35243cd",
   "metadata": {},
   "outputs": [
    {
     "name": "stdout",
     "output_type": "stream",
     "text": [
      "Counter({2: 8, 3: 8, 1: 6, 'a': 2, 4: 1})\n",
      "Counter({'l': 4, 'H': 2, 'e': 2, 'o': 2})\n"
     ]
    }
   ],
   "source": [
    "#The counter moudle counts the number of the same value there are in a list\n",
    "from collections import Counter\n",
    "\n",
    "alist = [1,1,1,1,2,2,2,2,1,1,2,2,2,3,3,3,3,3,3,2,3,3,'a','a',4]\n",
    "print(Counter(alist))\n",
    "\n",
    "#It also works with srtings\n",
    "print(Counter('HelloHello'))"
   ]
  },
  {
   "cell_type": "code",
   "execution_count": 7,
   "id": "bcde9842",
   "metadata": {},
   "outputs": [
    {
     "data": {
      "text/plain": [
       "[('t', 4),\n",
       " ('e', 3),\n",
       " ('s', 2),\n",
       " (' ', 2),\n",
       " ('L', 1),\n",
       " ('C', 1),\n",
       " ('o', 1),\n",
       " ('u', 1),\n",
       " ('n', 1),\n",
       " ('r', 1)]"
      ]
     },
     "execution_count": 7,
     "metadata": {},
     "output_type": "execute_result"
    }
   ],
   "source": [
    "#Counter has a variety of methods\n",
    "c = Counter('Lets test Counter')\n",
    "c.most_common()"
   ]
  },
  {
   "cell_type": "code",
   "execution_count": 10,
   "id": "3e0435cf",
   "metadata": {},
   "outputs": [
    {
     "data": {
      "text/plain": [
       "100"
      ]
     },
     "execution_count": 10,
     "metadata": {},
     "output_type": "execute_result"
    }
   ],
   "source": [
    "#The defaultdict asigns a default value to key calls that don't exist\n",
    "from collections import defaultdict\n",
    "\n",
    "d = defaultdict(lambda: 0)\n",
    "d['correct'] = 100\n",
    "d['correct']"
   ]
  },
  {
   "cell_type": "code",
   "execution_count": 11,
   "id": "73a3460c",
   "metadata": {},
   "outputs": [
    {
     "data": {
      "text/plain": [
       "0"
      ]
     },
     "execution_count": 11,
     "metadata": {},
     "output_type": "execute_result"
    }
   ],
   "source": [
    "d['WRONG']"
   ]
  },
  {
   "cell_type": "code",
   "execution_count": 12,
   "id": "d15d10d4",
   "metadata": {},
   "outputs": [
    {
     "ename": "KeyError",
     "evalue": "'WRONG'",
     "output_type": "error",
     "traceback": [
      "\u001b[1;31m---------------------------------------------------------------------------\u001b[0m",
      "\u001b[1;31mKeyError\u001b[0m                                  Traceback (most recent call last)",
      "Input \u001b[1;32mIn [12]\u001b[0m, in \u001b[0;36m<cell line: 3>\u001b[1;34m()\u001b[0m\n\u001b[0;32m      1\u001b[0m \u001b[38;5;66;03m#A normal dict for reference\u001b[39;00m\n\u001b[0;32m      2\u001b[0m l \u001b[38;5;241m=\u001b[39m {\u001b[38;5;124m'\u001b[39m\u001b[38;5;124ma\u001b[39m\u001b[38;5;124m'\u001b[39m:\u001b[38;5;241m20\u001b[39m}\n\u001b[1;32m----> 3\u001b[0m \u001b[43ml\u001b[49m\u001b[43m[\u001b[49m\u001b[38;5;124;43m'\u001b[39;49m\u001b[38;5;124;43mWRONG\u001b[39;49m\u001b[38;5;124;43m'\u001b[39;49m\u001b[43m]\u001b[49m\n",
      "\u001b[1;31mKeyError\u001b[0m: 'WRONG'"
     ]
    }
   ],
   "source": [
    "#A normal dict for reference\n",
    "l = {'a':20}\n",
    "l['WRONG']"
   ]
  },
  {
   "cell_type": "code",
   "execution_count": 13,
   "id": "b71f9b5c",
   "metadata": {},
   "outputs": [],
   "source": [
    "#The named tuple adds index names to tuples\n",
    "#Very similar to calling attributes of a class\n",
    "from collections import namedtuple\n",
    "\n",
    "Dog = namedtuple('Dog',['age','breed','name'])\n",
    "Sammy = Dog(age=5, breed='Husky', name='Sam')"
   ]
  },
  {
   "cell_type": "code",
   "execution_count": 15,
   "id": "7516ea16",
   "metadata": {},
   "outputs": [
    {
     "data": {
      "text/plain": [
       "Dog(age=5, breed='Husky', name='Sam')"
      ]
     },
     "execution_count": 15,
     "metadata": {},
     "output_type": "execute_result"
    }
   ],
   "source": [
    "Sammy"
   ]
  },
  {
   "cell_type": "code",
   "execution_count": 16,
   "id": "bcac7d8b",
   "metadata": {},
   "outputs": [
    {
     "data": {
      "text/plain": [
       "5"
      ]
     },
     "execution_count": 16,
     "metadata": {},
     "output_type": "execute_result"
    }
   ],
   "source": [
    "Sammy.age"
   ]
  },
  {
   "cell_type": "code",
   "execution_count": 17,
   "id": "f4b75d41",
   "metadata": {},
   "outputs": [
    {
     "data": {
      "text/plain": [
       "5"
      ]
     },
     "execution_count": 17,
     "metadata": {},
     "output_type": "execute_result"
    }
   ],
   "source": [
    "Sammy[0]"
   ]
  },
  {
   "cell_type": "markdown",
   "id": "2c814178",
   "metadata": {},
   "source": [
    "## OS module\n",
    "- The OS module lets you navigate around computer files and then perform actions on them. \n",
    "- There are several commands that are very useful."
   ]
  },
  {
   "cell_type": "code",
   "execution_count": 1,
   "id": "383495ed",
   "metadata": {},
   "outputs": [
    {
     "data": {
      "text/plain": [
       "'C:\\\\Users\\\\bentu_jrl8t90\\\\OneDrive\\\\Python and AI\\\\Udemy Python'"
      ]
     },
     "execution_count": 1,
     "metadata": {},
     "output_type": "execute_result"
    }
   ],
   "source": [
    "#Print the working directory (Jupyter Command)\n",
    "pwd"
   ]
  },
  {
   "cell_type": "code",
   "execution_count": 2,
   "id": "e4aa01fe",
   "metadata": {},
   "outputs": [],
   "source": [
    "#create a new file, write to it and close it. (Also a jupyter command)\n",
    "f = open('practice.txt', 'w+')\n",
    "f.write('this is a test')\n",
    "f.close()"
   ]
  },
  {
   "cell_type": "code",
   "execution_count": 3,
   "id": "bd4c061b",
   "metadata": {},
   "outputs": [
    {
     "data": {
      "text/plain": [
       "'C:\\\\Users\\\\bentu_jrl8t90\\\\OneDrive\\\\Python and AI\\\\Udemy Python'"
      ]
     },
     "execution_count": 3,
     "metadata": {},
     "output_type": "execute_result"
    }
   ],
   "source": [
    "#Using the os module allows for commands in any python script\n",
    "import os\n",
    "os.getcwd()"
   ]
  },
  {
   "cell_type": "code",
   "execution_count": 4,
   "id": "077fc8ac",
   "metadata": {},
   "outputs": [
    {
     "data": {
      "text/plain": [
       "['.ipynb_checkpoints',\n",
       " '1 - Introduction and Data Types.ipynb',\n",
       " '2 - Python Statements.ipynb',\n",
       " '3 - Functions.ipynb',\n",
       " '4 - Object Oriented Programming.ipynb',\n",
       " '5 - Modules and Packages.ipynb',\n",
       " '6 - Errors and Exception Handling.ipynb',\n",
       " '7 - Python Decorators and Generators.ipynb',\n",
       " '8 - Advanced Python Modules.ipynb',\n",
       " 'Assessments',\n",
       " 'Modules_and_Packages_Example',\n",
       " 'practice.txt',\n",
       " 'Projects',\n",
       " 'PylintTest.py',\n",
       " 'test.txt']"
      ]
     },
     "execution_count": 4,
     "metadata": {},
     "output_type": "execute_result"
    }
   ],
   "source": [
    "#List all directories in cwd\n",
    "os.listdir()"
   ]
  },
  {
   "cell_type": "code",
   "execution_count": 6,
   "id": "3260f77c",
   "metadata": {},
   "outputs": [
    {
     "data": {
      "text/plain": [
       "['All Users',\n",
       " 'bentu',\n",
       " 'bentu_jrl8t90',\n",
       " 'Default',\n",
       " 'Default User',\n",
       " 'desktop.ini',\n",
       " 'Public']"
      ]
     },
     "execution_count": 6,
     "metadata": {},
     "output_type": "execute_result"
    }
   ],
   "source": [
    "#List all directories in specified directory\n",
    "os.listdir('C:\\\\Users')"
   ]
  },
  {
   "cell_type": "markdown",
   "id": "273332ef",
   "metadata": {},
   "source": [
    "- Shutil ('Shell Utility') is another module that is used for manipulating files"
   ]
  },
  {
   "cell_type": "code",
   "execution_count": 7,
   "id": "2973fa03",
   "metadata": {},
   "outputs": [
    {
     "data": {
      "text/plain": [
       "'C:\\\\Users\\\\bentu_jrl8t90\\\\OneDrive\\\\Python and AI\\\\Udemy Python\\\\Projects\\\\practice.txt'"
      ]
     },
     "execution_count": 7,
     "metadata": {},
     "output_type": "execute_result"
    }
   ],
   "source": [
    "#Import shutil and move practice file to projects\n",
    "import shutil\n",
    "shutil.move('practice.txt','C:\\\\Users\\\\bentu_jrl8t90\\\\OneDrive\\\\Python and AI\\\\Udemy Python\\\\Projects')"
   ]
  },
  {
   "cell_type": "markdown",
   "id": "65129343",
   "metadata": {},
   "source": [
    "- You can delete files using the OS module.\n",
    "- The commands are irreversible. \n",
    "- Therefore they are demonstrated in markdown only\n",
    "- os.unlink(path) deletes a file at the path provided.\n",
    "- os.rmdir(path) deletes a folder (that must be empty) at the path provided.\n",
    "- shutil.rmtree(path) removes all files and folders contained in the path\n",
    "- Alternatively, the send2trash module can be used as a way to put files in the recycling bin such that they can be recovered easily."
   ]
  },
  {
   "cell_type": "code",
   "execution_count": 8,
   "id": "2a06af17",
   "metadata": {},
   "outputs": [],
   "source": [
    "import send2trash "
   ]
  },
  {
   "cell_type": "code",
   "execution_count": 10,
   "id": "8ff15c84",
   "metadata": {},
   "outputs": [
    {
     "data": {
      "text/plain": [
       "['.ipynb_checkpoints',\n",
       " '1 - Introduction and Data Types.ipynb',\n",
       " '2 - Python Statements.ipynb',\n",
       " '3 - Functions.ipynb',\n",
       " '4 - Object Oriented Programming.ipynb',\n",
       " '5 - Modules and Packages.ipynb',\n",
       " '6 - Errors and Exception Handling.ipynb',\n",
       " '7 - Python Decorators and Generators.ipynb',\n",
       " '8 - Advanced Python Modules.ipynb',\n",
       " 'Assessments',\n",
       " 'Modules_and_Packages_Example',\n",
       " 'practice.txt',\n",
       " 'Projects',\n",
       " 'PylintTest.py',\n",
       " 'test.txt']"
      ]
     },
     "execution_count": 10,
     "metadata": {},
     "output_type": "execute_result"
    }
   ],
   "source": [
    "#Move practice back to cwd\n",
    "shutil.move('C:\\\\Users\\\\bentu_jrl8t90\\\\OneDrive\\\\Python and AI\\\\Udemy Python\\\\Projects\\\\practice.txt', os.getcwd())\n",
    "os.listdir()"
   ]
  },
  {
   "cell_type": "code",
   "execution_count": 11,
   "id": "5e7796e0",
   "metadata": {},
   "outputs": [
    {
     "data": {
      "text/plain": [
       "['.ipynb_checkpoints',\n",
       " '1 - Introduction and Data Types.ipynb',\n",
       " '2 - Python Statements.ipynb',\n",
       " '3 - Functions.ipynb',\n",
       " '4 - Object Oriented Programming.ipynb',\n",
       " '5 - Modules and Packages.ipynb',\n",
       " '6 - Errors and Exception Handling.ipynb',\n",
       " '7 - Python Decorators and Generators.ipynb',\n",
       " '8 - Advanced Python Modules.ipynb',\n",
       " 'Assessments',\n",
       " 'Modules_and_Packages_Example',\n",
       " 'Projects',\n",
       " 'PylintTest.py',\n",
       " 'test.txt']"
      ]
     },
     "execution_count": 11,
     "metadata": {},
     "output_type": "execute_result"
    }
   ],
   "source": [
    "#send practice to trash\n",
    "send2trash.send2trash('practice.txt')\n",
    "os.listdir()"
   ]
  },
  {
   "cell_type": "markdown",
   "id": "09f81702",
   "metadata": {},
   "source": [
    "- the function walk in the OS module allows you to extract the folders subfolders and files from a filepath.\n",
    "- It will open all subfolders and further subfolders all the way to files."
   ]
  },
  {
   "cell_type": "code",
   "execution_count": 26,
   "id": "d9bef939",
   "metadata": {},
   "outputs": [
    {
     "name": "stdout",
     "output_type": "stream",
     "text": [
      "\n",
      "The folder is: \n",
      "\n",
      "C:\\Users\\bentu_jrl8t90\\OneDrive\\Python and AI\\Udemy Python\n",
      "\n",
      "The sub_folders are:\n",
      "\t.ipynb_checkpoints\n",
      "\tAssessments\n",
      "\tModules_and_Packages_Example\n",
      "\tProjects\n",
      "\n",
      "The files are:\n",
      "\t1 - Introduction and Data Types.ipynb\n",
      "\t2 - Python Statements.ipynb\n",
      "\t3 - Functions.ipynb\n",
      "\t4 - Object Oriented Programming.ipynb\n",
      "\t5 - Modules and Packages.ipynb\n",
      "\t6 - Errors and Exception Handling.ipynb\n",
      "\t7 - Python Decorators and Generators.ipynb\n",
      "\t8 - Advanced Python Modules.ipynb\n",
      "\tPylintTest.py\n",
      "\ttest.txt\n",
      "\n",
      "The folder is: \n",
      "\n",
      "C:\\Users\\bentu_jrl8t90\\OneDrive\\Python and AI\\Udemy Python\\.ipynb_checkpoints\n",
      "\n",
      "The sub_folders are:\n",
      "\n",
      "The files are:\n",
      "\t1 - Introduction and Data Types-checkpoint.ipynb\n",
      "\t2 - Python Statements-checkpoint.ipynb\n",
      "\t3 - Functions-checkpoint.ipynb\n",
      "\t4 - Object Oriented Programming-checkpoint.ipynb\n",
      "\t5 - Modules and Packages-checkpoint.ipynb\n",
      "\t6 - Errors and Exception Handling-checkpoint.ipynb\n",
      "\t7 - Python Decorators and Generators-checkpoint.ipynb\n",
      "\t8 - Advanced Python Modules-checkpoint.ipynb\n",
      "\tNaughts and Crosses-checkpoint.ipynb\n",
      "\n",
      "The folder is: \n",
      "\n",
      "C:\\Users\\bentu_jrl8t90\\OneDrive\\Python and AI\\Udemy Python\\Assessments\n",
      "\n",
      "The sub_folders are:\n",
      "\t.ipynb_checkpoints\n",
      "\n",
      "The files are:\n",
      "\tError_Handling_Homework.ipynb\n",
      "\tFunctions_and_Methods_Homework.ipynb\n",
      "\tFunctions_Assessment.ipynb\n",
      "\tGenerators_Homework.ipynb\n",
      "\tObjects_and_Data_Structures_Assessment.ipynb\n",
      "\tOOP Assessment.ipynb\n",
      "\tOOP_Challenge.ipynb\n",
      "\tSatements_Assessment_Test.ipynb\n",
      "\n",
      "The folder is: \n",
      "\n",
      "C:\\Users\\bentu_jrl8t90\\OneDrive\\Python and AI\\Udemy Python\\Assessments\\.ipynb_checkpoints\n",
      "\n",
      "The sub_folders are:\n",
      "\n",
      "The files are:\n",
      "\tError_Handling_Homework-checkpoint.ipynb\n",
      "\tFunctions_and_Methods_Homework-checkpoint.ipynb\n",
      "\tFunctions_Assessment-checkpoint.ipynb\n",
      "\tGenerators_Homework-checkpoint.ipynb\n",
      "\tObjects_and_Data_Structures_Assessment-checkpoint.ipynb\n",
      "\tOOP Assessment-checkpoint.ipynb\n",
      "\tOOP_Challenge-checkpoint.ipynb\n",
      "\tSatements_Assessment_Test-checkpoint.ipynb\n",
      "\n",
      "The folder is: \n",
      "\n",
      "C:\\Users\\bentu_jrl8t90\\OneDrive\\Python and AI\\Udemy Python\\Modules_and_Packages_Example\n",
      "\n",
      "The sub_folders are:\n",
      "\t.idea\n",
      "\tMyMainPackage\n",
      "\t__pycache__\n",
      "\n",
      "The files are:\n",
      "\tMyModule.py\n",
      "\tMyProgramme.py\n",
      "\t__init__.py\n",
      "\n",
      "The folder is: \n",
      "\n",
      "C:\\Users\\bentu_jrl8t90\\OneDrive\\Python and AI\\Udemy Python\\Modules_and_Packages_Example\\.idea\n",
      "\n",
      "The sub_folders are:\n",
      "\tinspectionProfiles\n",
      "\n",
      "The files are:\n",
      "\t.gitignore\n",
      "\tmisc.xml\n",
      "\tModules and Packages Example.iml\n",
      "\tmodules.xml\n",
      "\tworkspace.xml\n",
      "\n",
      "The folder is: \n",
      "\n",
      "C:\\Users\\bentu_jrl8t90\\OneDrive\\Python and AI\\Udemy Python\\Modules_and_Packages_Example\\.idea\\inspectionProfiles\n",
      "\n",
      "The sub_folders are:\n",
      "\n",
      "The files are:\n",
      "\tprofiles_settings.xml\n",
      "\n",
      "The folder is: \n",
      "\n",
      "C:\\Users\\bentu_jrl8t90\\OneDrive\\Python and AI\\Udemy Python\\Modules_and_Packages_Example\\MyMainPackage\n",
      "\n",
      "The sub_folders are:\n",
      "\tSubPackage\n",
      "\t__pycache__\n",
      "\n",
      "The files are:\n",
      "\tsome_main_script.py\n",
      "\t__init__.py\n",
      "\n",
      "The folder is: \n",
      "\n",
      "C:\\Users\\bentu_jrl8t90\\OneDrive\\Python and AI\\Udemy Python\\Modules_and_Packages_Example\\MyMainPackage\\SubPackage\n",
      "\n",
      "The sub_folders are:\n",
      "\t__pycache__\n",
      "\n",
      "The files are:\n",
      "\tSubscript.py\n",
      "\t__init__.py\n",
      "\n",
      "The folder is: \n",
      "\n",
      "C:\\Users\\bentu_jrl8t90\\OneDrive\\Python and AI\\Udemy Python\\Modules_and_Packages_Example\\MyMainPackage\\SubPackage\\__pycache__\n",
      "\n",
      "The sub_folders are:\n",
      "\n",
      "The files are:\n",
      "\tSubscript.cpython-39.pyc\n",
      "\t__init__.cpython-39.pyc\n",
      "\n",
      "The folder is: \n",
      "\n",
      "C:\\Users\\bentu_jrl8t90\\OneDrive\\Python and AI\\Udemy Python\\Modules_and_Packages_Example\\MyMainPackage\\__pycache__\n",
      "\n",
      "The sub_folders are:\n",
      "\n",
      "The files are:\n",
      "\tsome_main_script.cpython-39.pyc\n",
      "\t__init__.cpython-39.pyc\n",
      "\n",
      "The folder is: \n",
      "\n",
      "C:\\Users\\bentu_jrl8t90\\OneDrive\\Python and AI\\Udemy Python\\Modules_and_Packages_Example\\__pycache__\n",
      "\n",
      "The sub_folders are:\n",
      "\n",
      "The files are:\n",
      "\tMyModule.cpython-39.pyc\n",
      "\t__init__.cpython-39.pyc\n",
      "\n",
      "The folder is: \n",
      "\n",
      "C:\\Users\\bentu_jrl8t90\\OneDrive\\Python and AI\\Udemy Python\\Projects\n",
      "\n",
      "The sub_folders are:\n",
      "\t.ipynb_checkpoints\n",
      "\n",
      "The files are:\n",
      "\tBlack_Jack.ipynb\n",
      "\tCard_Game_War.ipynb\n",
      "\tNaughts and Crosses.ipynb\n",
      "\n",
      "The folder is: \n",
      "\n",
      "C:\\Users\\bentu_jrl8t90\\OneDrive\\Python and AI\\Udemy Python\\Projects\\.ipynb_checkpoints\n",
      "\n",
      "The sub_folders are:\n",
      "\n",
      "The files are:\n",
      "\tBlack_Jack-checkpoint.ipynb\n",
      "\tCard_Game_War-checkpoint.ipynb\n"
     ]
    }
   ],
   "source": [
    "for folder, sub_folders, files in os.walk(os.getcwd()):\n",
    "    print(\"\\nThe folder is: \\n\")\n",
    "    print(f\"{folder}\\n\")\n",
    "    print(f'The sub_folders are:')\n",
    "    for x in sub_folders:\n",
    "        print(f\"\\t{x}\")\n",
    "    print(\"\\nThe files are:\")\n",
    "    for x in files:\n",
    "        print(f\"\\t{x}\")"
   ]
  },
  {
   "cell_type": "markdown",
   "id": "7aef1df7",
   "metadata": {},
   "source": [
    "## Datetime Module\n",
    "- The datatime module allows you to create objects relating to the date, time and timezones\n",
    "- You can create time objects, date objects, datetime objects and get information on todays datetime data"
   ]
  },
  {
   "cell_type": "code",
   "execution_count": 27,
   "id": "886d4807",
   "metadata": {},
   "outputs": [],
   "source": [
    "import datetime"
   ]
  },
  {
   "cell_type": "code",
   "execution_count": 30,
   "id": "6bec9841",
   "metadata": {},
   "outputs": [],
   "source": [
    "today = datetime.datetime.today()"
   ]
  },
  {
   "cell_type": "code",
   "execution_count": 35,
   "id": "e3b6ddb2",
   "metadata": {},
   "outputs": [
    {
     "data": {
      "text/plain": [
       "'Thu Sep 29 17:27:38 2022'"
      ]
     },
     "execution_count": 35,
     "metadata": {},
     "output_type": "execute_result"
    }
   ],
   "source": [
    "today.ctime()"
   ]
  },
  {
   "cell_type": "markdown",
   "id": "b04a9d83",
   "metadata": {},
   "source": [
    "- datetime allows direct arithmatic on datetime objects"
   ]
  },
  {
   "cell_type": "code",
   "execution_count": 44,
   "id": "de61e385",
   "metadata": {},
   "outputs": [],
   "source": [
    "from datetime import date\n",
    "date1 = date(2021,11,3)\n",
    "date2 = date(2022,11,3)\n",
    "result = date2-date1"
   ]
  },
  {
   "cell_type": "code",
   "execution_count": 50,
   "id": "6d2f8e18",
   "metadata": {},
   "outputs": [
    {
     "data": {
      "text/plain": [
       "365"
      ]
     },
     "execution_count": 50,
     "metadata": {},
     "output_type": "execute_result"
    }
   ],
   "source": [
    "result.days"
   ]
  },
  {
   "cell_type": "markdown",
   "id": "fe2e2378",
   "metadata": {},
   "source": [
    "## Math and Random Module\n",
    "- The math module contains alot of math functions\n",
    "- The random module has functions to create percieved randomness in your code"
   ]
  },
  {
   "cell_type": "code",
   "execution_count": 53,
   "id": "beabc0bf",
   "metadata": {},
   "outputs": [
    {
     "name": "stdout",
     "output_type": "stream",
     "text": [
      "Help on built-in module math:\n",
      "\n",
      "NAME\n",
      "    math\n",
      "\n",
      "DESCRIPTION\n",
      "    This module provides access to the mathematical functions\n",
      "    defined by the C standard.\n",
      "\n",
      "FUNCTIONS\n",
      "    acos(x, /)\n",
      "        Return the arc cosine (measured in radians) of x.\n",
      "        \n",
      "        The result is between 0 and pi.\n",
      "    \n",
      "    acosh(x, /)\n",
      "        Return the inverse hyperbolic cosine of x.\n",
      "    \n",
      "    asin(x, /)\n",
      "        Return the arc sine (measured in radians) of x.\n",
      "        \n",
      "        The result is between -pi/2 and pi/2.\n",
      "    \n",
      "    asinh(x, /)\n",
      "        Return the inverse hyperbolic sine of x.\n",
      "    \n",
      "    atan(x, /)\n",
      "        Return the arc tangent (measured in radians) of x.\n",
      "        \n",
      "        The result is between -pi/2 and pi/2.\n",
      "    \n",
      "    atan2(y, x, /)\n",
      "        Return the arc tangent (measured in radians) of y/x.\n",
      "        \n",
      "        Unlike atan(y/x), the signs of both x and y are considered.\n",
      "    \n",
      "    atanh(x, /)\n",
      "        Return the inverse hyperbolic tangent of x.\n",
      "    \n",
      "    ceil(x, /)\n",
      "        Return the ceiling of x as an Integral.\n",
      "        \n",
      "        This is the smallest integer >= x.\n",
      "    \n",
      "    comb(n, k, /)\n",
      "        Number of ways to choose k items from n items without repetition and without order.\n",
      "        \n",
      "        Evaluates to n! / (k! * (n - k)!) when k <= n and evaluates\n",
      "        to zero when k > n.\n",
      "        \n",
      "        Also called the binomial coefficient because it is equivalent\n",
      "        to the coefficient of k-th term in polynomial expansion of the\n",
      "        expression (1 + x)**n.\n",
      "        \n",
      "        Raises TypeError if either of the arguments are not integers.\n",
      "        Raises ValueError if either of the arguments are negative.\n",
      "    \n",
      "    copysign(x, y, /)\n",
      "        Return a float with the magnitude (absolute value) of x but the sign of y.\n",
      "        \n",
      "        On platforms that support signed zeros, copysign(1.0, -0.0)\n",
      "        returns -1.0.\n",
      "    \n",
      "    cos(x, /)\n",
      "        Return the cosine of x (measured in radians).\n",
      "    \n",
      "    cosh(x, /)\n",
      "        Return the hyperbolic cosine of x.\n",
      "    \n",
      "    degrees(x, /)\n",
      "        Convert angle x from radians to degrees.\n",
      "    \n",
      "    dist(p, q, /)\n",
      "        Return the Euclidean distance between two points p and q.\n",
      "        \n",
      "        The points should be specified as sequences (or iterables) of\n",
      "        coordinates.  Both inputs must have the same dimension.\n",
      "        \n",
      "        Roughly equivalent to:\n",
      "            sqrt(sum((px - qx) ** 2.0 for px, qx in zip(p, q)))\n",
      "    \n",
      "    erf(x, /)\n",
      "        Error function at x.\n",
      "    \n",
      "    erfc(x, /)\n",
      "        Complementary error function at x.\n",
      "    \n",
      "    exp(x, /)\n",
      "        Return e raised to the power of x.\n",
      "    \n",
      "    expm1(x, /)\n",
      "        Return exp(x)-1.\n",
      "        \n",
      "        This function avoids the loss of precision involved in the direct evaluation of exp(x)-1 for small x.\n",
      "    \n",
      "    fabs(x, /)\n",
      "        Return the absolute value of the float x.\n",
      "    \n",
      "    factorial(x, /)\n",
      "        Find x!.\n",
      "        \n",
      "        Raise a ValueError if x is negative or non-integral.\n",
      "    \n",
      "    floor(x, /)\n",
      "        Return the floor of x as an Integral.\n",
      "        \n",
      "        This is the largest integer <= x.\n",
      "    \n",
      "    fmod(x, y, /)\n",
      "        Return fmod(x, y), according to platform C.\n",
      "        \n",
      "        x % y may differ.\n",
      "    \n",
      "    frexp(x, /)\n",
      "        Return the mantissa and exponent of x, as pair (m, e).\n",
      "        \n",
      "        m is a float and e is an int, such that x = m * 2.**e.\n",
      "        If x is 0, m and e are both 0.  Else 0.5 <= abs(m) < 1.0.\n",
      "    \n",
      "    fsum(seq, /)\n",
      "        Return an accurate floating point sum of values in the iterable seq.\n",
      "        \n",
      "        Assumes IEEE-754 floating point arithmetic.\n",
      "    \n",
      "    gamma(x, /)\n",
      "        Gamma function at x.\n",
      "    \n",
      "    gcd(*integers)\n",
      "        Greatest Common Divisor.\n",
      "    \n",
      "    hypot(...)\n",
      "        hypot(*coordinates) -> value\n",
      "        \n",
      "        Multidimensional Euclidean distance from the origin to a point.\n",
      "        \n",
      "        Roughly equivalent to:\n",
      "            sqrt(sum(x**2 for x in coordinates))\n",
      "        \n",
      "        For a two dimensional point (x, y), gives the hypotenuse\n",
      "        using the Pythagorean theorem:  sqrt(x*x + y*y).\n",
      "        \n",
      "        For example, the hypotenuse of a 3/4/5 right triangle is:\n",
      "        \n",
      "            >>> hypot(3.0, 4.0)\n",
      "            5.0\n",
      "    \n",
      "    isclose(a, b, *, rel_tol=1e-09, abs_tol=0.0)\n",
      "        Determine whether two floating point numbers are close in value.\n",
      "        \n",
      "          rel_tol\n",
      "            maximum difference for being considered \"close\", relative to the\n",
      "            magnitude of the input values\n",
      "          abs_tol\n",
      "            maximum difference for being considered \"close\", regardless of the\n",
      "            magnitude of the input values\n",
      "        \n",
      "        Return True if a is close in value to b, and False otherwise.\n",
      "        \n",
      "        For the values to be considered close, the difference between them\n",
      "        must be smaller than at least one of the tolerances.\n",
      "        \n",
      "        -inf, inf and NaN behave similarly to the IEEE 754 Standard.  That\n",
      "        is, NaN is not close to anything, even itself.  inf and -inf are\n",
      "        only close to themselves.\n",
      "    \n",
      "    isfinite(x, /)\n",
      "        Return True if x is neither an infinity nor a NaN, and False otherwise.\n",
      "    \n",
      "    isinf(x, /)\n",
      "        Return True if x is a positive or negative infinity, and False otherwise.\n",
      "    \n",
      "    isnan(x, /)\n",
      "        Return True if x is a NaN (not a number), and False otherwise.\n",
      "    \n",
      "    isqrt(n, /)\n",
      "        Return the integer part of the square root of the input.\n",
      "    \n",
      "    lcm(*integers)\n",
      "        Least Common Multiple.\n",
      "    \n",
      "    ldexp(x, i, /)\n",
      "        Return x * (2**i).\n",
      "        \n",
      "        This is essentially the inverse of frexp().\n",
      "    \n",
      "    lgamma(x, /)\n",
      "        Natural logarithm of absolute value of Gamma function at x.\n",
      "    \n",
      "    log(...)\n",
      "        log(x, [base=math.e])\n",
      "        Return the logarithm of x to the given base.\n",
      "        \n",
      "        If the base not specified, returns the natural logarithm (base e) of x.\n",
      "    \n",
      "    log10(x, /)\n",
      "        Return the base 10 logarithm of x.\n",
      "    \n",
      "    log1p(x, /)\n",
      "        Return the natural logarithm of 1+x (base e).\n",
      "        \n",
      "        The result is computed in a way which is accurate for x near zero.\n",
      "    \n",
      "    log2(x, /)\n",
      "        Return the base 2 logarithm of x.\n",
      "    \n",
      "    modf(x, /)\n",
      "        Return the fractional and integer parts of x.\n",
      "        \n",
      "        Both results carry the sign of x and are floats.\n",
      "    \n",
      "    nextafter(x, y, /)\n",
      "        Return the next floating-point value after x towards y.\n",
      "    \n",
      "    perm(n, k=None, /)\n",
      "        Number of ways to choose k items from n items without repetition and with order.\n",
      "        \n",
      "        Evaluates to n! / (n - k)! when k <= n and evaluates\n",
      "        to zero when k > n.\n",
      "        \n",
      "        If k is not specified or is None, then k defaults to n\n",
      "        and the function returns n!.\n",
      "        \n",
      "        Raises TypeError if either of the arguments are not integers.\n",
      "        Raises ValueError if either of the arguments are negative.\n",
      "    \n",
      "    pow(x, y, /)\n",
      "        Return x**y (x to the power of y).\n",
      "    \n",
      "    prod(iterable, /, *, start=1)\n",
      "        Calculate the product of all the elements in the input iterable.\n",
      "        \n",
      "        The default start value for the product is 1.\n",
      "        \n",
      "        When the iterable is empty, return the start value.  This function is\n",
      "        intended specifically for use with numeric values and may reject\n",
      "        non-numeric types.\n",
      "    \n",
      "    radians(x, /)\n",
      "        Convert angle x from degrees to radians.\n",
      "    \n",
      "    remainder(x, y, /)\n",
      "        Difference between x and the closest integer multiple of y.\n",
      "        \n",
      "        Return x - n*y where n*y is the closest integer multiple of y.\n",
      "        In the case where x is exactly halfway between two multiples of\n",
      "        y, the nearest even value of n is used. The result is always exact.\n",
      "    \n",
      "    sin(x, /)\n",
      "        Return the sine of x (measured in radians).\n",
      "    \n",
      "    sinh(x, /)\n",
      "        Return the hyperbolic sine of x.\n",
      "    \n",
      "    sqrt(x, /)\n",
      "        Return the square root of x.\n",
      "    \n",
      "    tan(x, /)\n",
      "        Return the tangent of x (measured in radians).\n",
      "    \n",
      "    tanh(x, /)\n",
      "        Return the hyperbolic tangent of x.\n",
      "    \n",
      "    trunc(x, /)\n",
      "        Truncates the Real x to the nearest Integral toward 0.\n",
      "        \n",
      "        Uses the __trunc__ magic method.\n",
      "    \n",
      "    ulp(x, /)\n",
      "        Return the value of the least significant bit of the float x.\n",
      "\n",
      "DATA\n",
      "    e = 2.718281828459045\n",
      "    inf = inf\n",
      "    nan = nan\n",
      "    pi = 3.141592653589793\n",
      "    tau = 6.283185307179586\n",
      "\n",
      "FILE\n",
      "    (built-in)\n",
      "\n",
      "\n"
     ]
    }
   ],
   "source": [
    "#The help function give all information on modules\n",
    "import math\n",
    "help(math)"
   ]
  },
  {
   "cell_type": "code",
   "execution_count": 58,
   "id": "7887066c",
   "metadata": {},
   "outputs": [],
   "source": [
    "import random"
   ]
  },
  {
   "cell_type": "code",
   "execution_count": 60,
   "id": "30166262",
   "metadata": {},
   "outputs": [
    {
     "data": {
      "text/plain": [
       "35"
      ]
     },
     "execution_count": 60,
     "metadata": {},
     "output_type": "execute_result"
    }
   ],
   "source": [
    "#Generate a random int\n",
    "random.randint(0,100)"
   ]
  },
  {
   "cell_type": "markdown",
   "id": "59fdb2f5",
   "metadata": {},
   "source": [
    "- The random module allows for seeds which make the randomness predictable by returning the same set of numbers. \n",
    "- This allows consistent code testing."
   ]
  },
  {
   "cell_type": "code",
   "execution_count": 61,
   "id": "1da1c7b3",
   "metadata": {},
   "outputs": [
    {
     "data": {
      "text/plain": [
       "81"
      ]
     },
     "execution_count": 61,
     "metadata": {},
     "output_type": "execute_result"
    }
   ],
   "source": [
    "random.seed(42)\n",
    "random.randint(0,100)"
   ]
  },
  {
   "cell_type": "code",
   "execution_count": 62,
   "id": "443353ef",
   "metadata": {},
   "outputs": [
    {
     "data": {
      "text/plain": [
       "81"
      ]
     },
     "execution_count": 62,
     "metadata": {},
     "output_type": "execute_result"
    }
   ],
   "source": [
    "random.seed(42)\n",
    "random.randint(0,100)"
   ]
  },
  {
   "cell_type": "code",
   "execution_count": 63,
   "id": "30548b53",
   "metadata": {},
   "outputs": [
    {
     "data": {
      "text/plain": [
       "3"
      ]
     },
     "execution_count": 63,
     "metadata": {},
     "output_type": "execute_result"
    }
   ],
   "source": [
    "#Return a random number from a list\n",
    "mylist = range(0,20)\n",
    "random.choice(mylist)"
   ]
  },
  {
   "cell_type": "code",
   "execution_count": 67,
   "id": "db50c8fe",
   "metadata": {},
   "outputs": [
    {
     "data": {
      "text/plain": [
       "[15, 3, 8, 5, 4, 15, 2, 7, 7, 6]"
      ]
     },
     "execution_count": 67,
     "metadata": {},
     "output_type": "execute_result"
    }
   ],
   "source": [
    "#You can sample with or without replacement\n",
    "random.choices(population=mylist, k=10)"
   ]
  },
  {
   "cell_type": "code",
   "execution_count": 68,
   "id": "adb1466c",
   "metadata": {},
   "outputs": [
    {
     "data": {
      "text/plain": [
       "[8, 1, 14, 3, 12, 18, 19, 4, 10, 9]"
      ]
     },
     "execution_count": 68,
     "metadata": {},
     "output_type": "execute_result"
    }
   ],
   "source": [
    "random.sample(population=mylist,k=10) "
   ]
  },
  {
   "cell_type": "markdown",
   "id": "9e851125",
   "metadata": {},
   "source": [
    "## Debugger\n",
    "- Python comes with a built-in debugger which allows variable exploration during operations\n",
    "- This allows you to check variables through code to help figure out problems"
   ]
  },
  {
   "cell_type": "code",
   "execution_count": 69,
   "id": "b81ffb39",
   "metadata": {},
   "outputs": [
    {
     "ename": "TypeError",
     "evalue": "can only concatenate list (not \"int\") to list",
     "output_type": "error",
     "traceback": [
      "\u001b[1;31m---------------------------------------------------------------------------\u001b[0m",
      "\u001b[1;31mTypeError\u001b[0m                                 Traceback (most recent call last)",
      "Input \u001b[1;32mIn [69]\u001b[0m, in \u001b[0;36m<cell line: 9>\u001b[1;34m()\u001b[0m\n\u001b[0;32m      6\u001b[0m z \u001b[38;5;241m=\u001b[39m \u001b[38;5;241m3\u001b[39m\n\u001b[0;32m      8\u001b[0m one \u001b[38;5;241m=\u001b[39m y\u001b[38;5;241m+\u001b[39mz\n\u001b[1;32m----> 9\u001b[0m two \u001b[38;5;241m=\u001b[39m \u001b[43mx\u001b[49m\u001b[38;5;241;43m+\u001b[39;49m\u001b[43my\u001b[49m\n",
      "\u001b[1;31mTypeError\u001b[0m: can only concatenate list (not \"int\") to list"
     ]
    }
   ],
   "source": [
    "#Import the python de-bugger\n",
    "import pdb\n",
    "\n",
    "x = [1,2,3]\n",
    "y = 2\n",
    "z = 3\n",
    "\n",
    "one = y+z\n",
    "two = x+y"
   ]
  },
  {
   "cell_type": "code",
   "execution_count": 70,
   "id": "a7d5c4b7",
   "metadata": {},
   "outputs": [
    {
     "name": "stdout",
     "output_type": "stream",
     "text": [
      "--Return--\n",
      "None\n",
      "> \u001b[1;32mc:\\users\\bentu_jrl8t90\\appdata\\local\\temp\\ipykernel_10696\\2877396686.py\u001b[0m(6)\u001b[0;36m<cell line: 6>\u001b[1;34m()\u001b[0m\n",
      "\n",
      "ipdb> x\n",
      "[1, 2, 3]\n",
      "ipdb> y\n",
      "2\n",
      "ipdb> \n",
      "2\n",
      "ipdb> q\n"
     ]
    },
    {
     "ename": "BdbQuit",
     "evalue": "",
     "output_type": "error",
     "traceback": [
      "\u001b[1;31m---------------------------------------------------------------------------\u001b[0m",
      "\u001b[1;31mBdbQuit\u001b[0m                                   Traceback (most recent call last)",
      "Input \u001b[1;32mIn [70]\u001b[0m, in \u001b[0;36m<cell line: 6>\u001b[1;34m()\u001b[0m\n\u001b[0;32m      3\u001b[0m z \u001b[38;5;241m=\u001b[39m \u001b[38;5;241m3\u001b[39m\n\u001b[0;32m      5\u001b[0m one \u001b[38;5;241m=\u001b[39m y\u001b[38;5;241m+\u001b[39mz\n\u001b[1;32m----> 6\u001b[0m pdb\u001b[38;5;241m.\u001b[39mset_trace()\n\u001b[0;32m      7\u001b[0m two \u001b[38;5;241m=\u001b[39m x\u001b[38;5;241m+\u001b[39my\n",
      "File \u001b[1;32m~\\anaconda3\\lib\\bdb.py:92\u001b[0m, in \u001b[0;36mBdb.trace_dispatch\u001b[1;34m(self, frame, event, arg)\u001b[0m\n\u001b[0;32m     90\u001b[0m     \u001b[38;5;28;01mreturn\u001b[39;00m \u001b[38;5;28mself\u001b[39m\u001b[38;5;241m.\u001b[39mdispatch_call(frame, arg)\n\u001b[0;32m     91\u001b[0m \u001b[38;5;28;01mif\u001b[39;00m event \u001b[38;5;241m==\u001b[39m \u001b[38;5;124m'\u001b[39m\u001b[38;5;124mreturn\u001b[39m\u001b[38;5;124m'\u001b[39m:\n\u001b[1;32m---> 92\u001b[0m     \u001b[38;5;28;01mreturn\u001b[39;00m \u001b[38;5;28;43mself\u001b[39;49m\u001b[38;5;241;43m.\u001b[39;49m\u001b[43mdispatch_return\u001b[49m\u001b[43m(\u001b[49m\u001b[43mframe\u001b[49m\u001b[43m,\u001b[49m\u001b[43m \u001b[49m\u001b[43marg\u001b[49m\u001b[43m)\u001b[49m\n\u001b[0;32m     93\u001b[0m \u001b[38;5;28;01mif\u001b[39;00m event \u001b[38;5;241m==\u001b[39m \u001b[38;5;124m'\u001b[39m\u001b[38;5;124mexception\u001b[39m\u001b[38;5;124m'\u001b[39m:\n\u001b[0;32m     94\u001b[0m     \u001b[38;5;28;01mreturn\u001b[39;00m \u001b[38;5;28mself\u001b[39m\u001b[38;5;241m.\u001b[39mdispatch_exception(frame, arg)\n",
      "File \u001b[1;32m~\\anaconda3\\lib\\bdb.py:154\u001b[0m, in \u001b[0;36mBdb.dispatch_return\u001b[1;34m(self, frame, arg)\u001b[0m\n\u001b[0;32m    152\u001b[0m \u001b[38;5;28;01mfinally\u001b[39;00m:\n\u001b[0;32m    153\u001b[0m     \u001b[38;5;28mself\u001b[39m\u001b[38;5;241m.\u001b[39mframe_returning \u001b[38;5;241m=\u001b[39m \u001b[38;5;28;01mNone\u001b[39;00m\n\u001b[1;32m--> 154\u001b[0m \u001b[38;5;28;01mif\u001b[39;00m \u001b[38;5;28mself\u001b[39m\u001b[38;5;241m.\u001b[39mquitting: \u001b[38;5;28;01mraise\u001b[39;00m BdbQuit\n\u001b[0;32m    155\u001b[0m \u001b[38;5;66;03m# The user issued a 'next' or 'until' command.\u001b[39;00m\n\u001b[0;32m    156\u001b[0m \u001b[38;5;28;01mif\u001b[39;00m \u001b[38;5;28mself\u001b[39m\u001b[38;5;241m.\u001b[39mstopframe \u001b[38;5;129;01mis\u001b[39;00m frame \u001b[38;5;129;01mand\u001b[39;00m \u001b[38;5;28mself\u001b[39m\u001b[38;5;241m.\u001b[39mstoplineno \u001b[38;5;241m!=\u001b[39m \u001b[38;5;241m-\u001b[39m\u001b[38;5;241m1\u001b[39m:\n",
      "\u001b[1;31mBdbQuit\u001b[0m: "
     ]
    }
   ],
   "source": [
    "x = [1,2,3]\n",
    "y = 2\n",
    "z = 3\n",
    "\n",
    "one = y+z\n",
    "#This line pauses the script at this point\n",
    "pdb.set_trace()\n",
    "two = x+y"
   ]
  },
  {
   "cell_type": "markdown",
   "id": "325b8c93",
   "metadata": {},
   "source": [
    "## Regular Expressions Module\n",
    "- Regular Expressions or regex allows you to serach for patterns within text\n",
    "- This means the exact string does not need to be known.\n",
    "- For example, searching for an email without knowing what the email is exactly. i.e xxxxxxx@xxxx.co.uk"
   ]
  },
  {
   "cell_type": "code",
   "execution_count": 71,
   "id": "10117011",
   "metadata": {},
   "outputs": [],
   "source": [
    "text = 'This is a big string that needs searching using regex. Here is a number: 07415628786 and here is an email: lookatthis@yahoo.com'"
   ]
  },
  {
   "cell_type": "code",
   "execution_count": 72,
   "id": "d6e6b919",
   "metadata": {},
   "outputs": [
    {
     "data": {
      "text/plain": [
       "True"
      ]
     },
     "execution_count": 72,
     "metadata": {},
     "output_type": "execute_result"
    }
   ],
   "source": [
    "#The built in true or false\n",
    "'This' in text"
   ]
  },
  {
   "cell_type": "code",
   "execution_count": 78,
   "id": "6baa0030",
   "metadata": {},
   "outputs": [
    {
     "data": {
      "text/plain": [
       "(10, 13)"
      ]
     },
     "execution_count": 78,
     "metadata": {},
     "output_type": "execute_result"
    }
   ],
   "source": [
    "#Searching for an expression\n",
    "import re\n",
    "pattern = 'big'\n",
    "result = re.search(pattern,text)\n",
    "result.span() #Show the start and end locations of the result"
   ]
  },
  {
   "cell_type": "markdown",
   "id": "4a63e958",
   "metadata": {},
   "source": [
    "- The search function only returns the first result\n",
    "- A re object is returned, from which you can get information about the search\n",
    "- To search for all results, the findall function is used\n",
    "- This makes more sense when regex are introduced"
   ]
  },
  {
   "cell_type": "code",
   "execution_count": 79,
   "id": "a316a938",
   "metadata": {},
   "outputs": [],
   "source": [
    "matches = re.findall('is', text)"
   ]
  },
  {
   "cell_type": "code",
   "execution_count": 80,
   "id": "23f9fed6",
   "metadata": {},
   "outputs": [
    {
     "data": {
      "text/plain": [
       "['is', 'is', 'is', 'is', 'is']"
      ]
     },
     "execution_count": 80,
     "metadata": {},
     "output_type": "execute_result"
    }
   ],
   "source": [
    "matches"
   ]
  },
  {
   "cell_type": "markdown",
   "id": "d35beb45",
   "metadata": {},
   "source": [
    "- Character Identifiers\n",
    "\n",
    "| **Character** | **Description**  | **Example Code** | **Example Match** |\n",
    "|---------------|------------------|------------------|-------------------|\n",
    "| \\d            | A digit          | file_\\d\\d        | File_24           |\n",
    "| \\w            | Alphanumeric     | \\w-\\w\\w\\w        | A-b 2             |\n",
    "| \\s            | White Space      | a\\sb\\sc          | a b c             |\n",
    "| \\D            | A on digit       | \\D\\D\\D           | ABC               |\n",
    "| \\W            | Non-alphanumeric | \\W\\W\\W\\W\\W       | *-+=)             |\n",
    "| \\S            | Non-whitespace   | \\S\\S             | Yo                |"
   ]
  },
  {
   "cell_type": "code",
   "execution_count": 85,
   "id": "e5863b7f",
   "metadata": {},
   "outputs": [
    {
     "data": {
      "text/plain": [
       "(73, 84)"
      ]
     },
     "execution_count": 85,
     "metadata": {},
     "output_type": "execute_result"
    }
   ],
   "source": [
    "pattern = r\"\\d\\d\\d\\d\\d\\d\\d\\d\\d\\d\\d\"\n",
    "result = re.search(pattern,text)\n",
    "result.span()"
   ]
  },
  {
   "cell_type": "markdown",
   "id": "c48451ca",
   "metadata": {},
   "source": [
    "- Quantifies can be used to state how many identifiers \n",
    "| **Character** | **Description**                  | **Example Code** | **Example Match** |\n",
    "|---------------|----------------------------------|------------------|-------------------|\n",
    "| +             | Occurs one or more times         | Version \\w-\\w+   | Version A-b1_1    |\n",
    "| {x}           | Occurs exactly x number of times | \\D{3}            | abc               |\n",
    "| {x,y}         | Occurs x to y times              | \\d{2,4}          | 123               |\n",
    "| {x,}          | Occurs x or more times           | \\w{3,}           | anycharacters     |\n",
    "| *             | Occurs zero or more times        | A*B*C*           | AAACCC            |\n",
    "| ?             | Once or none                     | plurals?         | plural            |"
   ]
  },
  {
   "cell_type": "code",
   "execution_count": 87,
   "id": "a087fa6d",
   "metadata": {},
   "outputs": [
    {
     "data": {
      "text/plain": [
       "(107, 127)"
      ]
     },
     "execution_count": 87,
     "metadata": {},
     "output_type": "execute_result"
    }
   ],
   "source": [
    "pattern = r\"\\w+@\\w+.com\"\n",
    "result = re.search(pattern, text)\n",
    "result.span()"
   ]
  },
  {
   "cell_type": "markdown",
   "id": "24113c6d",
   "metadata": {},
   "source": [
    "- regex can be compiled toghether\n",
    "- This is done using parenthesis to indicate patterns\n",
    "- Individual bracket expressions can then be called individually"
   ]
  },
  {
   "cell_type": "code",
   "execution_count": 91,
   "id": "4918a8cf",
   "metadata": {},
   "outputs": [
    {
     "data": {
      "text/plain": [
       "'lookatthis'"
      ]
     },
     "execution_count": 91,
     "metadata": {},
     "output_type": "execute_result"
    }
   ],
   "source": [
    "email_pattern = re.compile(r\"(\\w+)@(\\w+).com\")\n",
    "result = re.search(email_pattern, text)\n",
    "result.group(1) #The index starts at 1 for regex"
   ]
  },
  {
   "cell_type": "code",
   "execution_count": 92,
   "id": "3574b2cc",
   "metadata": {},
   "outputs": [
    {
     "data": {
      "text/plain": [
       "'yahoo'"
      ]
     },
     "execution_count": 92,
     "metadata": {},
     "output_type": "execute_result"
    }
   ],
   "source": [
    "result.group(2)"
   ]
  },
  {
   "cell_type": "markdown",
   "id": "49d89544",
   "metadata": {},
   "source": [
    "- It is possible to search for x or y in regexs.\n",
    "- The symbol | is used as or.\n",
    "- There is also a wild card placement that finds any character\n",
    "- The . symbol is used"
   ]
  },
  {
   "cell_type": "code",
   "execution_count": 94,
   "id": "3b054327",
   "metadata": {},
   "outputs": [
    {
     "data": {
      "text/plain": [
       "<re.Match object; span=(4, 7), match='dog'>"
      ]
     },
     "execution_count": 94,
     "metadata": {},
     "output_type": "execute_result"
    }
   ],
   "source": [
    "re.search(r\"cat|dog\", \"The cat in the hat\")\n",
    "re.search(r\"cat|dog\", \"The dog in the hat\")"
   ]
  },
  {
   "cell_type": "code",
   "execution_count": 96,
   "id": "7c671664",
   "metadata": {},
   "outputs": [
    {
     "data": {
      "text/plain": [
       "['e cat', 'e hat', 'splat']"
      ]
     },
     "execution_count": 96,
     "metadata": {},
     "output_type": "execute_result"
    }
   ],
   "source": [
    "re.findall(r\"...at\", \"The cat in the hat went splat\")"
   ]
  },
  {
   "cell_type": "markdown",
   "id": "83050d71",
   "metadata": {},
   "source": [
    "- There is a starts with symbol ^\n",
    "- There is also an ends with symbol $\n",
    "- This checks the whole string, not individual words\n",
    "- Finally there is an exclude option using square brackets and ^\n",
    "- Combining exclude with more that once nicely excludes things"
   ]
  },
  {
   "cell_type": "code",
   "execution_count": 99,
   "id": "7a7b7466",
   "metadata": {},
   "outputs": [
    {
     "data": {
      "text/plain": [
       "<re.Match object; span=(0, 1), match='t'>"
      ]
     },
     "execution_count": 99,
     "metadata": {},
     "output_type": "execute_result"
    }
   ],
   "source": [
    "phrase = 'there are 3 numbers 67 in this 23 scentence'\n",
    "re.search(r\"^t\",phrase)"
   ]
  },
  {
   "cell_type": "code",
   "execution_count": 101,
   "id": "222e332f",
   "metadata": {},
   "outputs": [
    {
     "data": {
      "text/plain": [
       "<re.Match object; span=(42, 43), match='e'>"
      ]
     },
     "execution_count": 101,
     "metadata": {},
     "output_type": "execute_result"
    }
   ],
   "source": [
    "re.search(r\"e$\", phrase)"
   ]
  },
  {
   "cell_type": "code",
   "execution_count": 112,
   "id": "e757278e",
   "metadata": {},
   "outputs": [
    {
     "data": {
      "text/plain": [
       "['there are ', ' numbers ', ' in this ', ' scentence']"
      ]
     },
     "execution_count": 112,
     "metadata": {},
     "output_type": "execute_result"
    }
   ],
   "source": [
    "re.findall(r\"[^\\d]+\", phrase)"
   ]
  },
  {
   "cell_type": "markdown",
   "id": "aa66e2b4",
   "metadata": {},
   "source": [
    "- Square brackets are also used to find anything that includes a phrase\n",
    "- They are essentially used to group statements"
   ]
  },
  {
   "cell_type": "code",
   "execution_count": 113,
   "id": "52063d2f",
   "metadata": {},
   "outputs": [
    {
     "data": {
      "text/plain": [
       "['there', 'are', '3', 'numbers', '67', 'in', 'this', '23', 'scentence']"
      ]
     },
     "execution_count": 113,
     "metadata": {},
     "output_type": "execute_result"
    }
   ],
   "source": [
    "re.findall(r\"[\\w]+\",phrase)"
   ]
  },
  {
   "cell_type": "markdown",
   "id": "d34b712c",
   "metadata": {},
   "source": [
    "## Timing Code\n",
    "- Being able to time code allows for testing of code efficiency.\n",
    "- the timeit module allows for code timing"
   ]
  },
  {
   "cell_type": "code",
   "execution_count": 1,
   "id": "7575e67b",
   "metadata": {},
   "outputs": [],
   "source": [
    "def func_one(n):\n",
    "    return [str(num) for num in range(n)]\n",
    "\n",
    "def func_two(n):\n",
    "    return list(map(str,range(n)))"
   ]
  },
  {
   "cell_type": "code",
   "execution_count": 2,
   "id": "a54c711c",
   "metadata": {},
   "outputs": [],
   "source": [
    "import time"
   ]
  },
  {
   "cell_type": "code",
   "execution_count": 3,
   "id": "c6459a44",
   "metadata": {},
   "outputs": [
    {
     "name": "stdout",
     "output_type": "stream",
     "text": [
      "0.16954565048217773\n"
     ]
    }
   ],
   "source": [
    "start_time = time.time() #Grab current time\n",
    "\n",
    "result = func_one(1000000)\n",
    "\n",
    "end_time = time.time()\n",
    "\n",
    "elapsed_time = end_time - start_time\n",
    "print(elapsed_time)"
   ]
  },
  {
   "cell_type": "code",
   "execution_count": 4,
   "id": "5fa52212",
   "metadata": {},
   "outputs": [
    {
     "name": "stdout",
     "output_type": "stream",
     "text": [
      "0.13962626457214355\n"
     ]
    }
   ],
   "source": [
    "start_time = time.time() #Grab current time\n",
    "\n",
    "result = func_two(1000000)\n",
    "\n",
    "end_time = time.time()\n",
    "\n",
    "elapsed_time = end_time - start_time\n",
    "print(elapsed_time)"
   ]
  },
  {
   "cell_type": "markdown",
   "id": "f8ff3d80",
   "metadata": {},
   "source": [
    "- Code runs quickly and can sometimes be hard to comapre for simple code that executes quickly \n",
    "- The timeit module is design to time code\n",
    "- It takes in setup and statement arguments as strings"
   ]
  },
  {
   "cell_type": "code",
   "execution_count": 6,
   "id": "d1337dbb",
   "metadata": {},
   "outputs": [],
   "source": [
    "import timeit"
   ]
  },
  {
   "cell_type": "code",
   "execution_count": 8,
   "id": "fef47aca",
   "metadata": {},
   "outputs": [
    {
     "data": {
      "text/plain": [
       "1.2860182000000577"
      ]
     },
     "execution_count": 8,
     "metadata": {},
     "output_type": "execute_result"
    }
   ],
   "source": [
    "stmt = '''\n",
    "func_one(100)\n",
    "'''\n",
    "setup = '''\n",
    "def func_one(n):\n",
    "    return [str(num) for num in range(n)]\n",
    "'''\n",
    "\n",
    "timeit.timeit(stmt,setup,number=100000)"
   ]
  },
  {
   "cell_type": "code",
   "execution_count": 9,
   "id": "d46c135c",
   "metadata": {},
   "outputs": [
    {
     "data": {
      "text/plain": [
       "1.02143430000001"
      ]
     },
     "execution_count": 9,
     "metadata": {},
     "output_type": "execute_result"
    }
   ],
   "source": [
    "stmt2 = '''\n",
    "func_two(100)\n",
    "'''\n",
    "setup2 = '''\n",
    "def func_two(n):\n",
    "    return list(map(str,range(n)))\n",
    "'''\n",
    "\n",
    "timeit.timeit(stmt2,setup2,number=100000)"
   ]
  },
  {
   "cell_type": "code",
   "execution_count": 12,
   "id": "7cb5723a",
   "metadata": {},
   "outputs": [
    {
     "name": "stdout",
     "output_type": "stream",
     "text": [
      "12.8 µs ± 338 ns per loop (mean ± std. dev. of 7 runs, 100,000 loops each)\n"
     ]
    }
   ],
   "source": [
    "%%timeit\n",
    "func_one(100)\n",
    "#Jupyter's magic timeit call"
   ]
  },
  {
   "cell_type": "markdown",
   "id": "d762000d",
   "metadata": {},
   "source": [
    "## Zipping and Unzipping files\n",
    "- Zipping files reduces the amount of space they take up. \n",
    "- This is useful for sending files.\n",
    "- This is possible to do in Python using zipfile"
   ]
  },
  {
   "cell_type": "code",
   "execution_count": 13,
   "id": "65fa919b",
   "metadata": {},
   "outputs": [],
   "source": [
    "f = open('fileone.txt','w+')\n",
    "f.write('Onefile')\n",
    "f.close()\n",
    "\n",
    "f = open('filetwo.txt', 'w+')\n",
    "f.write('twofile')\n",
    "f.close()"
   ]
  },
  {
   "cell_type": "code",
   "execution_count": 17,
   "id": "f86866ec",
   "metadata": {},
   "outputs": [],
   "source": [
    "import zipfile\n",
    "comp_file = zipfile.ZipFile('comp_file.zip','w') #Creating the zip file\n",
    "comp_file.write('fileone.txt',compress_type=zipfile.ZIP_DEFLATED) #Put the first file into the zipped folder\n",
    "comp_file.write('filetwo.txt',compress_type=zipfile.ZIP_DEFLATED) #Put the second file into the folder"
   ]
  },
  {
   "cell_type": "code",
   "execution_count": 18,
   "id": "23d26d4a",
   "metadata": {},
   "outputs": [],
   "source": [
    "comp_file.close() #Close the folder"
   ]
  },
  {
   "cell_type": "code",
   "execution_count": 19,
   "id": "3a9726c1",
   "metadata": {},
   "outputs": [],
   "source": [
    "#Unzipping\n",
    "zip_obj = zipfile.ZipFile('comp_file.zip','r') # create a zip object from the zipped file\n",
    "zip_obj.extractall('extracted_content') # Unzip everything to a new folder 'extracted content'"
   ]
  },
  {
   "cell_type": "code",
   "execution_count": 21,
   "id": "da56b8c9",
   "metadata": {},
   "outputs": [
    {
     "data": {
      "text/plain": [
       "'C:\\\\Users\\\\bentu_jrl8t90\\\\OneDrive\\\\Python and AI\\\\Udemy Python'"
      ]
     },
     "execution_count": 21,
     "metadata": {},
     "output_type": "execute_result"
    }
   ],
   "source": [
    "pwd"
   ]
  },
  {
   "cell_type": "markdown",
   "id": "0647680a",
   "metadata": {},
   "source": [
    "- It is more usual to zip a whole file \n",
    "- the shutil module can do this"
   ]
  },
  {
   "cell_type": "code",
   "execution_count": 22,
   "id": "b48e6b78",
   "metadata": {},
   "outputs": [],
   "source": [
    "import shutil\n",
    "dir_to_zip = 'C:\\\\Users\\\\bentu_jrl8t90\\\\OneDrive\\\\Python and AI\\\\Udemy Python\\\\extracted_content'\n",
    "output_filename = 'example'"
   ]
  },
  {
   "cell_type": "code",
   "execution_count": 23,
   "id": "cc9fdcd5",
   "metadata": {},
   "outputs": [
    {
     "data": {
      "text/plain": [
       "'C:\\\\Users\\\\bentu_jrl8t90\\\\OneDrive\\\\Python and AI\\\\Udemy Python\\\\example.zip'"
      ]
     },
     "execution_count": 23,
     "metadata": {},
     "output_type": "execute_result"
    }
   ],
   "source": [
    "shutil.make_archive(output_filename,'zip',dir_to_zip)"
   ]
  },
  {
   "cell_type": "code",
   "execution_count": 24,
   "id": "c9cccee3",
   "metadata": {},
   "outputs": [],
   "source": [
    "shutil.unpack_archive('example.zip','final_unzip','zip')"
   ]
  },
  {
   "cell_type": "code",
   "execution_count": null,
   "id": "399ffac5",
   "metadata": {},
   "outputs": [],
   "source": []
  }
 ],
 "metadata": {
  "kernelspec": {
   "display_name": "Python 3",
   "language": "python",
   "name": "python3"
  },
  "language_info": {
   "codemirror_mode": {
    "name": "ipython",
    "version": 3
   },
   "file_extension": ".py",
   "mimetype": "text/x-python",
   "name": "python",
   "nbconvert_exporter": "python",
   "pygments_lexer": "ipython3",
   "version": "3.9.12"
  }
 },
 "nbformat": 4,
 "nbformat_minor": 5
}
