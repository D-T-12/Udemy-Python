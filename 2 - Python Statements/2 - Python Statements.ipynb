{
 "cells": [
  {
   "cell_type": "markdown",
   "id": "007444fe",
   "metadata": {},
   "source": [
    "## Python Statements\n",
    "## If, elif and else\n",
    "\n",
    "- If, elif and else can use to control the logic of a program\n",
    "- As with all Python code, the syntax is essential to implementation. \n",
    "- An if, elif and else statment is set up in the following way"
   ]
  },
  {
   "cell_type": "code",
   "execution_count": 1,
   "id": "a6d9abe8",
   "metadata": {},
   "outputs": [],
   "source": [
    "if 'condition':\n",
    "    #Run this code (notice the indent)\n",
    "    None\n",
    "elif 'other condition':\n",
    "    #Run this code\n",
    "    None\n",
    "else:\n",
    "    #Run this code\n",
    "    None"
   ]
  },
  {
   "cell_type": "markdown",
   "id": "afb07cce",
   "metadata": {},
   "source": [
    "### For Loops\n",
    "- For loops are useful for iterating over an object\n",
    "- You can iterate through something that has multiple items. ie you can iterate through every letter of a string.\n",
    "- For loops are created in the following way"
   ]
  },
  {
   "cell_type": "code",
   "execution_count": 2,
   "id": "f6955ac7",
   "metadata": {},
   "outputs": [],
   "source": [
    "#for 'every_item' in 'iterable_object':\n",
    "    #Run this code "
   ]
  },
  {
   "cell_type": "code",
   "execution_count": 3,
   "id": "e601738f",
   "metadata": {},
   "outputs": [
    {
     "name": "stdout",
     "output_type": "stream",
     "text": [
      "0\n",
      "1\n",
      "2\n",
      "3\n",
      "lemon\n",
      "lemon\n",
      "lemon\n",
      "lemon\n"
     ]
    }
   ],
   "source": [
    "iterable = [0,1,2,3]\n",
    "for x in iterable:\n",
    "    print(x)\n",
    "\n",
    "for x in iterable:\n",
    "    print('lemon')"
   ]
  },
  {
   "cell_type": "code",
   "execution_count": 4,
   "id": "b68e4cfa",
   "metadata": {},
   "outputs": [
    {
     "name": "stdout",
     "output_type": "stream",
     "text": [
      "H\n",
      "e\n",
      "l\n",
      "l\n",
      "o\n",
      " \n",
      "W\n",
      "o\n",
      "r\n",
      "l\n",
      "d\n"
     ]
    }
   ],
   "source": [
    "for y in 'Hello World':\n",
    "    print(y)"
   ]
  },
  {
   "cell_type": "markdown",
   "id": "ea8538b2",
   "metadata": {},
   "source": [
    "- Tuple unpacking uses the structure of the item and allows you to access deeper layers\n",
    "- The interable must have a common data structure"
   ]
  },
  {
   "cell_type": "code",
   "execution_count": 5,
   "id": "4f40e1ea",
   "metadata": {},
   "outputs": [
    {
     "name": "stdout",
     "output_type": "stream",
     "text": [
      "1\n",
      "3\n",
      "5\n"
     ]
    }
   ],
   "source": [
    "mylist = [(1,2),(3,4),(5,6)]\n",
    "\n",
    "for a,b in mylist:\n",
    "    print(a)"
   ]
  },
  {
   "cell_type": "code",
   "execution_count": 6,
   "id": "87d2f765",
   "metadata": {},
   "outputs": [],
   "source": [
    "#mylist2 = [(1,2),(3,4),(5,6,7)]\n",
    "\n",
    "#for a,b in mylist2:\n",
    "    #print(a)"
   ]
  },
  {
   "cell_type": "code",
   "execution_count": 7,
   "id": "75fc16ab",
   "metadata": {},
   "outputs": [
    {
     "name": "stdout",
     "output_type": "stream",
     "text": [
      "k1\n",
      "k2\n",
      "k3\n"
     ]
    }
   ],
   "source": [
    "d = {'k1':1, 'k2':2, 'k3':3}\n",
    "\n",
    "for item in d:\n",
    "    print(item)"
   ]
  },
  {
   "cell_type": "code",
   "execution_count": 8,
   "id": "efac5535",
   "metadata": {},
   "outputs": [
    {
     "name": "stdout",
     "output_type": "stream",
     "text": [
      "('k1', 1)\n",
      "('k2', 2)\n",
      "('k3', 3)\n"
     ]
    }
   ],
   "source": [
    "for item in d.items():\n",
    "    print(item)"
   ]
  },
  {
   "cell_type": "code",
   "execution_count": 9,
   "id": "521c91ea",
   "metadata": {},
   "outputs": [
    {
     "name": "stdout",
     "output_type": "stream",
     "text": [
      "1\n",
      "2\n",
      "3\n"
     ]
    }
   ],
   "source": [
    "#Using tuple unpacking on a dictionary\n",
    "for key, item in d.items():\n",
    "    print(item)"
   ]
  },
  {
   "cell_type": "markdown",
   "id": "8d1eacdd",
   "metadata": {},
   "source": []
  },
  {
   "cell_type": "markdown",
   "id": "d11c86ad",
   "metadata": {},
   "source": [
    "### While Loops \n",
    " - Runs code WHILE a condition is true\n",
    " - Can be combined with a else statemems"
   ]
  },
  {
   "cell_type": "code",
   "execution_count": 10,
   "id": "9ba9d7e8",
   "metadata": {},
   "outputs": [
    {
     "name": "stdout",
     "output_type": "stream",
     "text": [
      "The current value of x is 0\n",
      "The current value of x is 1\n",
      "The current value of x is 2\n",
      "The current value of x is 3\n",
      "The current value of x is 4\n"
     ]
    }
   ],
   "source": [
    "x = 0 \n",
    "while x < 5:\n",
    "    print(f'The current value of x is {x}')\n",
    "    x += 1"
   ]
  },
  {
   "cell_type": "code",
   "execution_count": 11,
   "id": "d1cd9781",
   "metadata": {},
   "outputs": [
    {
     "name": "stdout",
     "output_type": "stream",
     "text": [
      "The current value of x is 0\n",
      "The current value of x is 1\n",
      "The current value of x is 2\n",
      "The current value of x is 3\n",
      "The current value of x is 4\n",
      "x is 5\n"
     ]
    }
   ],
   "source": [
    "x = 0 \n",
    "while x < 5:\n",
    "    print(f'The current value of x is {x}')\n",
    "    x += 1\n",
    "else:\n",
    "    print(f'x is {x}')"
   ]
  },
  {
   "cell_type": "markdown",
   "id": "c9cc6c74",
   "metadata": {},
   "source": [
    "### Break, Contiune, Pass\n",
    "- Breack, continue and pass are keywords that add additional functionality to loops\n",
    "- break: Breaks out of the current closest enclosing loop.\n",
    "- continue: Goes to the top of the closest enclosing loop.\n",
    "- pass: Does nothing at all. Useful as a place holder. "
   ]
  },
  {
   "cell_type": "code",
   "execution_count": 12,
   "id": "f1b9fc12",
   "metadata": {},
   "outputs": [
    {
     "name": "stdout",
     "output_type": "stream",
     "text": [
      "S\n",
      "t\n",
      "r\n",
      "n\n",
      "g\n",
      "  \n",
      "S\n",
      "t\n",
      "r\n"
     ]
    }
   ],
   "source": [
    "x = 'String'\n",
    "\n",
    "for y in x:\n",
    "    pass\n",
    "\n",
    "for y in x:\n",
    "    if y == 'i':\n",
    "        continue\n",
    "    print(y)\n",
    "\n",
    "print('  ')\n",
    "\n",
    "for y in x:\n",
    "    if y == 'i':\n",
    "        break\n",
    "    print(y)"
   ]
  },
  {
   "cell_type": "markdown",
   "id": "3079b603",
   "metadata": {},
   "source": [
    "### For, else Statements\n",
    "- For statements can be followed by an else statement.\n",
    "- The else statement runs if the for loop does not break."
   ]
  },
  {
   "cell_type": "code",
   "execution_count": 33,
   "id": "4f2d0605",
   "metadata": {},
   "outputs": [
    {
     "name": "stdout",
     "output_type": "stream",
     "text": [
      "no spaces check 2\n"
     ]
    }
   ],
   "source": [
    "string1 = 'With Space'\n",
    "string2 = 'Withnospace'\n",
    "\n",
    "for x in string1:\n",
    "    if x == ' ':\n",
    "        break\n",
    "else:\n",
    "    print('no spaces check 1')\n",
    "\n",
    "for x in string2:\n",
    "    if x == ' ':\n",
    "        break\n",
    "else:\n",
    "    print('no spaces check 2')"
   ]
  },
  {
   "cell_type": "markdown",
   "id": "dcfb92bb",
   "metadata": {},
   "source": [
    "### Useful operators\n",
    "- range(): can be used to generate lists. takes arguments (start, stop, step)\n",
    "- enumerate(): returns the index and element in a tuple\n",
    "- zip(): zip almost does the opposite of tuple unpacking. It zips two or more lists together. Will only zip as far as shortest list.\n",
    "- in: The in keyword can also be used for checking if an element is in a list.\n",
    "- min()/max(): returns minimum or mazimum values in a list\n",
    "- input(): User input function. Only accepts srings."
   ]
  },
  {
   "cell_type": "code",
   "execution_count": 13,
   "id": "d5ca1cbf",
   "metadata": {},
   "outputs": [
    {
     "name": "stdout",
     "output_type": "stream",
     "text": [
      "0\n",
      "1\n",
      "2\n",
      "3\n",
      "4\n",
      "5\n",
      "6\n",
      "7\n",
      "8\n",
      "9\n"
     ]
    },
    {
     "data": {
      "text/plain": [
       "[2, 4, 6, 8]"
      ]
     },
     "execution_count": 13,
     "metadata": {},
     "output_type": "execute_result"
    }
   ],
   "source": [
    "for num in range(10):\n",
    "    print(num)\n",
    "\n",
    "list(range(2,10,2))"
   ]
  },
  {
   "cell_type": "code",
   "execution_count": 28,
   "id": "5af54eba",
   "metadata": {},
   "outputs": [
    {
     "name": "stdout",
     "output_type": "stream",
     "text": [
      "(0, 'H')\n",
      "(1, 'e')\n",
      "(2, 'l')\n",
      "(3, 'l')\n",
      "(4, 'o')\n",
      "(5, ' ')\n",
      "(6, 'W')\n",
      "(7, 'o')\n",
      "(8, 'r')\n",
      "(9, 'l')\n",
      "(10, 'd')\n",
      "the index is 0 and the element is H\n",
      "the index is 1 and the element is e\n",
      "the index is 2 and the element is l\n",
      "the index is 3 and the element is l\n",
      "the index is 4 and the element is o\n",
      "the index is 5 and the element is  \n",
      "the index is 6 and the element is W\n",
      "the index is 7 and the element is o\n",
      "the index is 8 and the element is r\n",
      "the index is 9 and the element is l\n",
      "the index is 10 and the element is d\n"
     ]
    }
   ],
   "source": [
    "word = 'Hello World'\n",
    "for index in enumerate(word):\n",
    "    print(index)\n",
    "    \n",
    "#Using Tuple unpacking\n",
    "for i, e in enumerate(word):\n",
    "    print(f'the index is {i} and the element is {e}')"
   ]
  },
  {
   "cell_type": "code",
   "execution_count": 15,
   "id": "53fd77ce",
   "metadata": {},
   "outputs": [
    {
     "name": "stdout",
     "output_type": "stream",
     "text": [
      "(1, 'a', 100)\n",
      "(2, 'b', 200)\n",
      "(3, 'c', 300)\n"
     ]
    }
   ],
   "source": [
    "list1 = [1,2,3]\n",
    "list2 = ['a', 'b', 'c']\n",
    "list3 = [100,200,300]\n",
    "\n",
    "for elements in zip(list1, list2, list3):\n",
    "    print(elements)"
   ]
  },
  {
   "cell_type": "code",
   "execution_count": 16,
   "id": "e1f6f9af",
   "metadata": {},
   "outputs": [
    {
     "data": {
      "text/plain": [
       "False"
      ]
     },
     "execution_count": 16,
     "metadata": {},
     "output_type": "execute_result"
    }
   ],
   "source": [
    "'x' in [1,2,3]"
   ]
  },
  {
   "cell_type": "code",
   "execution_count": 17,
   "id": "70361663",
   "metadata": {},
   "outputs": [
    {
     "data": {
      "text/plain": [
       "True"
      ]
     },
     "execution_count": 17,
     "metadata": {},
     "output_type": "execute_result"
    }
   ],
   "source": [
    "'x' in ['x','y','z']"
   ]
  },
  {
   "cell_type": "code",
   "execution_count": 18,
   "id": "eb9267dd",
   "metadata": {},
   "outputs": [
    {
     "data": {
      "text/plain": [
       "True"
      ]
     },
     "execution_count": 18,
     "metadata": {},
     "output_type": "execute_result"
    }
   ],
   "source": [
    "dic = {'k1':1,'k2':2}\n",
    "'k1' in dic"
   ]
  },
  {
   "cell_type": "code",
   "execution_count": 19,
   "id": "914d9d24",
   "metadata": {},
   "outputs": [
    {
     "data": {
      "text/plain": [
       "True"
      ]
     },
     "execution_count": 19,
     "metadata": {},
     "output_type": "execute_result"
    }
   ],
   "source": [
    "2 in dic.values()"
   ]
  },
  {
   "cell_type": "code",
   "execution_count": 20,
   "id": "d18d2056",
   "metadata": {},
   "outputs": [
    {
     "name": "stdout",
     "output_type": "stream",
     "text": [
      "Enter a number 3\n",
      "3\n"
     ]
    }
   ],
   "source": [
    "result = input('Enter a number ')\n",
    "int(result)\n",
    "print(result)"
   ]
  },
  {
   "cell_type": "markdown",
   "id": "790aa6ac",
   "metadata": {},
   "source": [
    "## List Comprehension\n",
    "- Instead of using a loop in the classic layout to create a list, it can be condesned onto one line.\n",
    "- Think of it like this 'return x for x in itterable'\n",
    "- You can go one step further and do operations on the intial variable\n",
    "- If can be added after to generate lists on a condition\n",
    "- Think 'return variable (+operation) FOR variable IN iterrable IF condition'.\n",
    "- You can also include an else statement but the order changes and starts to get confusing.\n",
    "- Prioritise readability over 'one lineness'\n",
    "- Finaly, nested for statements are also available for list comprehension"
   ]
  },
  {
   "cell_type": "code",
   "execution_count": 21,
   "id": "093dd1ab",
   "metadata": {},
   "outputs": [
    {
     "name": "stdout",
     "output_type": "stream",
     "text": [
      "['H', 'e', 'l', 'l', 'o', ' ', 'W', 'o', 'r', 'l', 'd']\n"
     ]
    }
   ],
   "source": [
    "#Classic Version\n",
    "mylist = []\n",
    "for x in 'Hello World':\n",
    "    mylist.append(x)\n",
    "print(mylist)"
   ]
  },
  {
   "cell_type": "code",
   "execution_count": 22,
   "id": "7b5fcaae",
   "metadata": {},
   "outputs": [
    {
     "name": "stdout",
     "output_type": "stream",
     "text": [
      "['H', 'e', 'l', 'l', 'o', ' ', 'W', 'o', 'r', 'l', 'd']\n"
     ]
    }
   ],
   "source": [
    "#List Comprehension\n",
    "mylist = [x for x in 'Hello World'] \n",
    "print(mylist)"
   ]
  },
  {
   "cell_type": "code",
   "execution_count": 23,
   "id": "77360905",
   "metadata": {},
   "outputs": [
    {
     "name": "stdout",
     "output_type": "stream",
     "text": [
      "[0, 2, 4, 6, 8, 10, 12, 14, 16, 18, 20]\n"
     ]
    }
   ],
   "source": [
    "#List comprehension with operation on returned value\n",
    "mylist = [x*2 for x in range(0,11)]\n",
    "print(mylist)"
   ]
  },
  {
   "cell_type": "code",
   "execution_count": 24,
   "id": "27c92e61",
   "metadata": {},
   "outputs": [
    {
     "name": "stdout",
     "output_type": "stream",
     "text": [
      "[0, 4, 8, 12, 16, 20]\n"
     ]
    }
   ],
   "source": [
    "#List comprehension with a condition\n",
    "mylist = [x*2 for x in range(0,11) if x%2==0]\n",
    "print(mylist)"
   ]
  },
  {
   "cell_type": "code",
   "execution_count": 25,
   "id": "9ce4ae87",
   "metadata": {},
   "outputs": [
    {
     "name": "stdout",
     "output_type": "stream",
     "text": [
      "[0, 'odd', 2, 'odd', 4, 'odd', 6, 'odd', 8, 'odd', 10]\n"
     ]
    }
   ],
   "source": [
    "#List comprehension with a condition\n",
    "mylist = [x if x%2==0 else 'odd' for x in range(0,11)]\n",
    "print(mylist)"
   ]
  },
  {
   "cell_type": "code",
   "execution_count": 26,
   "id": "8040d25f",
   "metadata": {},
   "outputs": [
    {
     "name": "stdout",
     "output_type": "stream",
     "text": [
      "[2, 20, 200, 3, 30, 300, 6, 60, 600]\n"
     ]
    }
   ],
   "source": [
    "#Nested for loops classic version\n",
    "mylist = []\n",
    "for x in [2,3,6]:\n",
    "    for y in [1, 10, 100]:\n",
    "        mylist.append(x*y)\n",
    "print(mylist)"
   ]
  },
  {
   "cell_type": "code",
   "execution_count": 27,
   "id": "3aa1cb28",
   "metadata": {},
   "outputs": [
    {
     "name": "stdout",
     "output_type": "stream",
     "text": [
      "[2, 20, 200, 3, 30, 300, 6, 60, 600]\n"
     ]
    }
   ],
   "source": [
    "#List comprehension for nested for loops \n",
    "mylist = [x*y for x in [2,3,6] for y in [1,10,100]]\n",
    "print(mylist)"
   ]
  }
 ],
 "metadata": {
  "kernelspec": {
   "display_name": "Python 3",
   "language": "python",
   "name": "python3"
  },
  "language_info": {
   "codemirror_mode": {
    "name": "ipython",
    "version": 3
   },
   "file_extension": ".py",
   "mimetype": "text/x-python",
   "name": "python",
   "nbconvert_exporter": "python",
   "pygments_lexer": "ipython3",
   "version": "3.9.12"
  }
 },
 "nbformat": 4,
 "nbformat_minor": 5
}
