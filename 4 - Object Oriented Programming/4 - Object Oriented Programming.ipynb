{
 "cells": [
  {
   "cell_type": "markdown",
   "id": "4641e669",
   "metadata": {},
   "source": [
    "# Object Oriented Programming\n",
    "- OOP is a style of programming that groups realted variables and functions into objects.\n",
    "- These objects are defined by the class keyword.\n",
    "- Everything in python is a class/object.\n",
    "- Objects have methods (functions specific to an object) and attributes (variables specific to an object) associated with them.\n",
    "- Classes can be seen as the blueprints of an object with instances being created from a class. \n",
    "- You can create multiple instances of a class. \n",
    "- CamelCasing is used in the naming of classes."
   ]
  },
  {
   "cell_type": "code",
   "execution_count": 2,
   "id": "8c87ef48",
   "metadata": {},
   "outputs": [],
   "source": [
    "class ExampleClass():\n",
    "    pass"
   ]
  },
  {
   "cell_type": "code",
   "execution_count": 3,
   "id": "3cd54e0b",
   "metadata": {},
   "outputs": [],
   "source": [
    "#This is an instance of the class\n",
    "instance1 = ExampleClass()\n",
    "instance2 = ExampleClass()"
   ]
  },
  {
   "cell_type": "code",
   "execution_count": 4,
   "id": "f034a6ea",
   "metadata": {},
   "outputs": [
    {
     "data": {
      "text/plain": [
       "__main__.ExampleClass"
      ]
     },
     "execution_count": 4,
     "metadata": {},
     "output_type": "execute_result"
    }
   ],
   "source": [
    "type(instance1)"
   ]
  },
  {
   "cell_type": "markdown",
   "id": "fde42ab8",
   "metadata": {},
   "source": [
    "## Class Attributes\n",
    "- Attributes are variables realted to a class\n",
    "- They are defined in the _ _init_ _  method which is called on the creation of an instance automatically.\n",
    "- The self keyword is always passed in first as a way to connect the attributes to the specifc instance of the class.\n",
    "- The attributes then have to be connected to the instance explicitly.\n",
    "- Attributes do not have to be passed into init to be created."
   ]
  },
  {
   "cell_type": "code",
   "execution_count": 5,
   "id": "096f52e5",
   "metadata": {},
   "outputs": [],
   "source": [
    "class ExampleClass2():\n",
    "    \n",
    "    def __init__(self, attribute1, attribute2, variable3):\n",
    "        \n",
    "        #This is the convention\n",
    "        self.attribute1 = attribute1\n",
    "        self.attribute2 = attribute2\n",
    "        self.attribute3 = 11 #Notice how this is just created here \n",
    "        \n",
    "        #This highlights the attribute assignemnt to the instance from the variable\n",
    "        self.attributeName = variable3"
   ]
  },
  {
   "cell_type": "markdown",
   "id": "e3adb524",
   "metadata": {},
   "source": [
    "## Objects\n",
    "- Classes can be thought of as physical objects in the real world\n",
    "- Objects have attributes and actions that they can perform\n",
    "- Using a dog as an example:\n",
    "- Dogs have a breed, colour and number of legs. "
   ]
  },
  {
   "cell_type": "code",
   "execution_count": 3,
   "id": "b89f025f",
   "metadata": {},
   "outputs": [],
   "source": [
    "class Dog():\n",
    "    \n",
    "    def __init__(self, breed, colour, no_of_legs):\n",
    "        \n",
    "        self.breed = breed\n",
    "        self.colour = colour\n",
    "        self.no_of_legs = no_of_legs\n",
    "\n",
    "my_dog1 = Dog('Vizler', 'Brown', 4)\n",
    "my_dog2 = Dog('Lab', 'Black', 4)"
   ]
  },
  {
   "cell_type": "code",
   "execution_count": 7,
   "id": "36e47b9d",
   "metadata": {},
   "outputs": [
    {
     "name": "stdout",
     "output_type": "stream",
     "text": [
      "Vizler\n",
      "Lab\n"
     ]
    }
   ],
   "source": [
    "print(my_dog1.breed)\n",
    "print(my_dog2.breed)"
   ]
  },
  {
   "cell_type": "markdown",
   "id": "729a54c2",
   "metadata": {},
   "source": [
    "## Class Object Attributes\n",
    "- There may be attributes to a class that are always the same for any instance.\n",
    "- These are known as Class Object Attributes and are defined above the _ _ init _ _ method."
   ]
  },
  {
   "cell_type": "code",
   "execution_count": 8,
   "id": "5f255c3d",
   "metadata": {},
   "outputs": [],
   "source": [
    "class Dog():\n",
    "    \n",
    "    animal_class = 'mammal'\n",
    "    \n",
    "    def __init__(self, breed, colour, no_of_legs):\n",
    "        \n",
    "        self.breed = breed\n",
    "        self.colour = colour\n",
    "        self.no_of_legs = no_of_legs\n",
    "\n",
    "my_dog1 = Dog('Vizler', 'Brown', 4)\n",
    "my_dog2 = Dog('Lab', 'Black', 4)"
   ]
  },
  {
   "cell_type": "code",
   "execution_count": 9,
   "id": "2d1f2c15",
   "metadata": {},
   "outputs": [
    {
     "name": "stdout",
     "output_type": "stream",
     "text": [
      "mammal\n",
      "mammal\n"
     ]
    }
   ],
   "source": [
    "print(my_dog1.animal_class)\n",
    "print(my_dog2.animal_class)"
   ]
  },
  {
   "cell_type": "markdown",
   "id": "e1abf1a7",
   "metadata": {},
   "source": [
    "## Methods\n",
    "- Methods are functions of a class.\n",
    "- They are defined like normal functions.\n",
    "- Attributes do not need to be passed into the methods. The self word provides the link.\n",
    "- When referencing class object attributes in a method, self or the class name can be used.\n",
    "- Methods need curly braces, just like functions, when calling them"
   ]
  },
  {
   "cell_type": "code",
   "execution_count": 10,
   "id": "932af11f",
   "metadata": {},
   "outputs": [],
   "source": [
    "class Circle():\n",
    "    \n",
    "    pi = 3.14\n",
    "    \n",
    "    def __init__(self, radius=1):\n",
    "        \n",
    "        self.radius = radius\n",
    "    \n",
    "    def get_circumfrence(self):\n",
    "        return self.radius * self.pi * 2\n",
    "    \n",
    "    def get_area(self):\n",
    "        #Notice how Circle.pi is used. self.pi can be used and is referencing the same attribute\n",
    "        return self.radius**2 * Circle.pi \n"
   ]
  },
  {
   "cell_type": "code",
   "execution_count": 13,
   "id": "acab6228",
   "metadata": {},
   "outputs": [],
   "source": [
    "Circle1 = Circle() #Use the pre defined radius\n",
    "Circle2 = Circle(125) #Pass in a radius"
   ]
  },
  {
   "cell_type": "code",
   "execution_count": 14,
   "id": "86971a03",
   "metadata": {},
   "outputs": [
    {
     "name": "stdout",
     "output_type": "stream",
     "text": [
      "3.14\n",
      "49062.5\n"
     ]
    }
   ],
   "source": [
    "print(Circle1.get_area())\n",
    "print(Circle2.get_area())"
   ]
  },
  {
   "cell_type": "markdown",
   "id": "fb4c0ba1",
   "metadata": {},
   "source": [
    "## Inheritance\n",
    "- Classes can Inherit methods and attributes from other classes.\n",
    "- This is done by passing the base class (class that is being inherited from) to the new class and calling the base class in the init method of the new class.\n",
    "- This can be used as a way to reduce creating the same methods for different classes. A good way to recycle code."
   ]
  },
  {
   "cell_type": "code",
   "execution_count": 1,
   "id": "12a21642",
   "metadata": {},
   "outputs": [],
   "source": [
    "class Base():\n",
    "    \n",
    "    def __init__(self):\n",
    "        print('Base class created')\n",
    "    \n",
    "    def base_function(self):\n",
    "        print('I am the base function')\n",
    "        \n",
    "\n",
    "#Notice Base is being passed into Child class\n",
    "class Child(Base): \n",
    "    \n",
    "    def __init__(self):\n",
    "        Base.__init__(self) #Notice the init call and passing in self\n",
    "        print('Child class created')"
   ]
  },
  {
   "cell_type": "code",
   "execution_count": 2,
   "id": "642052a6",
   "metadata": {},
   "outputs": [
    {
     "name": "stdout",
     "output_type": "stream",
     "text": [
      "Base class created\n",
      "Child class created\n"
     ]
    }
   ],
   "source": [
    "test = Child()"
   ]
  },
  {
   "cell_type": "code",
   "execution_count": 3,
   "id": "2139858f",
   "metadata": {},
   "outputs": [
    {
     "name": "stdout",
     "output_type": "stream",
     "text": [
      "I am the base function\n"
     ]
    }
   ],
   "source": [
    "test.base_function() #This is a child class instance that can use base_function "
   ]
  },
  {
   "cell_type": "markdown",
   "id": "6e788832",
   "metadata": {},
   "source": [
    "## Polymorphism \n",
    "- Polymorphism basically means methods are specific to the class. \n",
    "- This means you can have methods with the same name in different classes that do different things."
   ]
  },
  {
   "cell_type": "code",
   "execution_count": 10,
   "id": "2643582c",
   "metadata": {},
   "outputs": [],
   "source": [
    "#Notice no init method for some classes. init is not essential and is mainly used to initialise class attributes.\n",
    "\n",
    "#Also notice how the when a class is inherited, so are its attributes.\n",
    "\n",
    "#Notice the speak method\n",
    "class Animal():\n",
    "    \n",
    "    def __init__(self, name):\n",
    "        self.name = name\n",
    "        \n",
    "    def speak(self):\n",
    "        print('This is the default output')\n",
    "\n",
    "#Notice an updated speak method\n",
    "class Dog(Animal):\n",
    "    \n",
    "    def speak(self):\n",
    "        print('Woof')\n",
    "\n",
    "#Notice no speak method\n",
    "class Cat(Animal):\n",
    "    None\n",
    "\n",
    "class Mouse(Animal):\n",
    "    \n",
    "    def speak(self): #Notcie how it shares the same method name as Dog\n",
    "        print('Squeek')"
   ]
  },
  {
   "cell_type": "code",
   "execution_count": 12,
   "id": "8cc1b177",
   "metadata": {},
   "outputs": [],
   "source": [
    "Jeff = Dog('Jeff') #Dog class requires a name as the inherited animal class requires a name\n",
    "Lucy = Cat('Lucy')\n",
    "Mikey = Mouse('Mikey')"
   ]
  },
  {
   "cell_type": "code",
   "execution_count": 13,
   "id": "158c7cb2",
   "metadata": {},
   "outputs": [
    {
     "name": "stdout",
     "output_type": "stream",
     "text": [
      "Woof\n"
     ]
    }
   ],
   "source": [
    "Jeff.speak()"
   ]
  },
  {
   "cell_type": "code",
   "execution_count": 14,
   "id": "bc792076",
   "metadata": {},
   "outputs": [
    {
     "name": "stdout",
     "output_type": "stream",
     "text": [
      "This is the default output\n"
     ]
    }
   ],
   "source": [
    "Lucy.speak()"
   ]
  },
  {
   "cell_type": "code",
   "execution_count": 15,
   "id": "a22f180d",
   "metadata": {},
   "outputs": [
    {
     "name": "stdout",
     "output_type": "stream",
     "text": [
      "Squeek\n"
     ]
    }
   ],
   "source": [
    "Mikey.speak()"
   ]
  },
  {
   "cell_type": "markdown",
   "id": "e14ec3d1",
   "metadata": {},
   "source": [
    "## Special Methods\n",
    "- Special methods (or dunder) are methods reserved by python to control an objects high level interaction. \n",
    "- They are defined using double underscores. \n",
    "- As an example, the len function will not work on a class created by the user unless there is a _ _len_ _ method in the class.  \n",
    "- The len function will then execute the len method when called on the object. "
   ]
  },
  {
   "cell_type": "code",
   "execution_count": 1,
   "id": "a979b7f1",
   "metadata": {},
   "outputs": [],
   "source": [
    "class SpecialMethods():\n",
    "    \n",
    "    def __init__(self, name):\n",
    "        self.name = name"
   ]
  },
  {
   "cell_type": "code",
   "execution_count": 2,
   "id": "6f91c7ae",
   "metadata": {},
   "outputs": [
    {
     "ename": "TypeError",
     "evalue": "object of type 'SpecialMethods' has no len()",
     "output_type": "error",
     "traceback": [
      "\u001b[1;31m---------------------------------------------------------------------------\u001b[0m",
      "\u001b[1;31mTypeError\u001b[0m                                 Traceback (most recent call last)",
      "Input \u001b[1;32mIn [2]\u001b[0m, in \u001b[0;36m<cell line: 2>\u001b[1;34m()\u001b[0m\n\u001b[0;32m      1\u001b[0m object1 \u001b[38;5;241m=\u001b[39m SpecialMethods(\u001b[38;5;124m'\u001b[39m\u001b[38;5;124mObject1\u001b[39m\u001b[38;5;124m'\u001b[39m)\n\u001b[1;32m----> 2\u001b[0m \u001b[38;5;28;43mlen\u001b[39;49m\u001b[43m(\u001b[49m\u001b[43mobject1\u001b[49m\u001b[43m)\u001b[49m\n",
      "\u001b[1;31mTypeError\u001b[0m: object of type 'SpecialMethods' has no len()"
     ]
    }
   ],
   "source": [
    "#Notice the error\n",
    "object1 = SpecialMethods('Object1')\n",
    "len(object1)"
   ]
  },
  {
   "cell_type": "code",
   "execution_count": 19,
   "id": "e9902191",
   "metadata": {},
   "outputs": [],
   "source": [
    "class SpecialMethods():\n",
    "    \n",
    "    def __init__(self, name):\n",
    "        self.name = name\n",
    "        \n",
    "    def __len__(self):\n",
    "        return 5"
   ]
  },
  {
   "cell_type": "code",
   "execution_count": 20,
   "id": "4bcf5638",
   "metadata": {},
   "outputs": [
    {
     "data": {
      "text/plain": [
       "5"
      ]
     },
     "execution_count": 20,
     "metadata": {},
     "output_type": "execute_result"
    }
   ],
   "source": [
    "object1 = SpecialMethods('Object1')\n",
    "len(object1)"
   ]
  }
 ],
 "metadata": {
  "kernelspec": {
   "display_name": "Python 3 (ipykernel)",
   "language": "python",
   "name": "python3"
  },
  "language_info": {
   "codemirror_mode": {
    "name": "ipython",
    "version": 3
   },
   "file_extension": ".py",
   "mimetype": "text/x-python",
   "name": "python",
   "nbconvert_exporter": "python",
   "pygments_lexer": "ipython3",
   "version": "3.9.12"
  }
 },
 "nbformat": 4,
 "nbformat_minor": 5
}
